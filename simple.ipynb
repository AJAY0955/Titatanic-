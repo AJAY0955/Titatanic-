{
 "cells": [
  {
   "cell_type": "code",
   "execution_count": 1,
   "id": "2d470314",
   "metadata": {},
   "outputs": [],
   "source": [
    "import pandas as pd\n",
    "import numpy as np \n",
    "import matplotlib.pyplot as plt\n",
    "from sklearn.preprocessing import StandardScaler,OneHotEncoder,MinMaxScaler\n",
    "from sklearn.impute import SimpleImputer\n",
    "from sklearn.tree import DecisionTreeClassifier\n",
    "from sklearn.svm import SVC\n",
    "from sklearn.ensemble import AdaBoostClassifier,RandomForestClassifier"
   ]
  },
  {
   "cell_type": "code",
   "execution_count": 2,
   "id": "39fdafac",
   "metadata": {},
   "outputs": [],
   "source": [
    "df_train = pd.read_csv('train.csv')\n",
    "df_test = pd.read_csv('test.csv')"
   ]
  },
  {
   "cell_type": "code",
   "execution_count": 3,
   "id": "4fb07913",
   "metadata": {},
   "outputs": [],
   "source": [
    "df_train['isCabin'] = df_train['Cabin'].isna().apply(lambda X:0 if X else 1)\n",
    "df_train['Title'] = df_train['Name'].apply(lambda X:X.split('.')[0].split(' ')[1])\n",
    "titles = df_train['Title'].value_counts().index[:6]\n",
    "df_train['Title'] = df_train['Title'].apply(lambda X:X if X in titles else 'other')"
   ]
  },
  {
   "cell_type": "code",
   "execution_count": 36,
   "id": "253a7a30",
   "metadata": {},
   "outputs": [
    {
     "data": {
      "text/plain": [
       "Mr        502\n",
       "Miss      179\n",
       "Mrs       121\n",
       "Master     40\n",
       "other      36\n",
       "Dr          7\n",
       "Rev         6\n",
       "Name: Title, dtype: int64"
      ]
     },
     "execution_count": 36,
     "metadata": {},
     "output_type": "execute_result"
    }
   ],
   "source": [
    "df_train['Title'].value_counts()\n"
   ]
  },
  {
   "cell_type": "code",
   "execution_count": 5,
   "id": "56521eeb",
   "metadata": {},
   "outputs": [
    {
     "data": {
      "text/plain": [
       "['PassengerId',\n",
       " 'Survived',\n",
       " 'Pclass',\n",
       " 'Age',\n",
       " 'SibSp',\n",
       " 'Parch',\n",
       " 'Fare',\n",
       " 'isCabin']"
      ]
     },
     "execution_count": 5,
     "metadata": {},
     "output_type": "execute_result"
    }
   ],
   "source": [
    "numeric_feature= list(df_train.select_dtypes(exclude='object').columns)\n",
    "numeric_feature"
   ]
  },
  {
   "cell_type": "code",
   "execution_count": 6,
   "id": "c650e2bc",
   "metadata": {},
   "outputs": [],
   "source": [
    "numeric_feature.remove('PassengerId')\n",
    "numeric_feature.remove('Survived')"
   ]
  },
  {
   "cell_type": "code",
   "execution_count": 7,
   "id": "8439df96",
   "metadata": {},
   "outputs": [
    {
     "data": {
      "text/plain": [
       "['Name', 'Sex', 'Ticket', 'Cabin', 'Embarked', 'Title']"
      ]
     },
     "execution_count": 7,
     "metadata": {},
     "output_type": "execute_result"
    }
   ],
   "source": [
    "cat_feature= list(df_train.select_dtypes(include='object').columns)\n",
    "cat_feature"
   ]
  },
  {
   "cell_type": "code",
   "execution_count": 8,
   "id": "0b8ee9e3",
   "metadata": {},
   "outputs": [],
   "source": [
    "cat_feature.remove('Name')\n",
    "cat_feature.remove('Ticket')\n",
    "cat_feature.remove('Cabin')"
   ]
  },
  {
   "cell_type": "code",
   "execution_count": 9,
   "id": "dfc13cfc",
   "metadata": {},
   "outputs": [
    {
     "data": {
      "text/plain": [
       "SimpleImputer(strategy='median')"
      ]
     },
     "execution_count": 9,
     "metadata": {},
     "output_type": "execute_result"
    }
   ],
   "source": [
    "imputer=SimpleImputer(strategy='median')\n",
    "imputer.fit(df_train[numeric_feature])"
   ]
  },
  {
   "cell_type": "code",
   "execution_count": 10,
   "id": "81f1d3bc",
   "metadata": {},
   "outputs": [],
   "source": [
    "df_train[numeric_feature]=imputer.transform(df_train[numeric_feature])"
   ]
  },
  {
   "cell_type": "code",
   "execution_count": 11,
   "id": "f22d00a5",
   "metadata": {},
   "outputs": [
    {
     "data": {
      "text/plain": [
       "Pclass     0\n",
       "Age        0\n",
       "SibSp      0\n",
       "Parch      0\n",
       "Fare       0\n",
       "isCabin    0\n",
       "dtype: int64"
      ]
     },
     "execution_count": 11,
     "metadata": {},
     "output_type": "execute_result"
    }
   ],
   "source": [
    "df_train[numeric_feature].isnull().sum()"
   ]
  },
  {
   "cell_type": "code",
   "execution_count": 12,
   "id": "38a55d19",
   "metadata": {},
   "outputs": [],
   "source": [
    "imputer=SimpleImputer(strategy='most_frequent')\n",
    "imputer.fit(df_train[cat_feature])\n",
    "df_train[cat_feature]=imputer.transform(df_train[cat_feature])"
   ]
  },
  {
   "cell_type": "code",
   "execution_count": 13,
   "id": "6b179910",
   "metadata": {},
   "outputs": [
    {
     "data": {
      "text/plain": [
       "MinMaxScaler()"
      ]
     },
     "execution_count": 13,
     "metadata": {},
     "output_type": "execute_result"
    }
   ],
   "source": [
    "scaler= MinMaxScaler()\n",
    "scaler.fit(df_train[numeric_feature])"
   ]
  },
  {
   "cell_type": "code",
   "execution_count": 14,
   "id": "abfc88c4",
   "metadata": {},
   "outputs": [],
   "source": [
    "df_train[numeric_feature]=scaler.transform(df_train[numeric_feature])"
   ]
  },
  {
   "cell_type": "code",
   "execution_count": 15,
   "id": "a2abcf01",
   "metadata": {},
   "outputs": [
    {
     "data": {
      "text/plain": [
       "array([[0., 1., 0., ..., 0., 0., 0.],\n",
       "       [1., 0., 1., ..., 1., 0., 0.],\n",
       "       [1., 0., 0., ..., 0., 0., 0.],\n",
       "       ...,\n",
       "       [1., 0., 0., ..., 0., 0., 0.],\n",
       "       [0., 1., 1., ..., 0., 0., 0.],\n",
       "       [0., 1., 0., ..., 0., 0., 0.]])"
      ]
     },
     "execution_count": 15,
     "metadata": {},
     "output_type": "execute_result"
    }
   ],
   "source": [
    "ohe= OneHotEncoder(handle_unknown='ignore')\n",
    "ohe.fit(df_train[cat_feature])\n",
    "ohe.transform(df_train[cat_feature]).toarray()"
   ]
  },
  {
   "cell_type": "code",
   "execution_count": 16,
   "id": "414b38e7",
   "metadata": {},
   "outputs": [],
   "source": [
    "cat_onecode=ohe.get_feature_names()"
   ]
  },
  {
   "cell_type": "code",
   "execution_count": 17,
   "id": "278ae6fe",
   "metadata": {},
   "outputs": [],
   "source": [
    "train=pd.DataFrame(data=ohe.transform(df_train[cat_feature]).toarray(),columns=cat_onecode)"
   ]
  },
  {
   "cell_type": "code",
   "execution_count": 18,
   "id": "113aeb4c",
   "metadata": {},
   "outputs": [
    {
     "data": {
      "text/html": [
       "<div>\n",
       "<style scoped>\n",
       "    .dataframe tbody tr th:only-of-type {\n",
       "        vertical-align: middle;\n",
       "    }\n",
       "\n",
       "    .dataframe tbody tr th {\n",
       "        vertical-align: top;\n",
       "    }\n",
       "\n",
       "    .dataframe thead th {\n",
       "        text-align: right;\n",
       "    }\n",
       "</style>\n",
       "<table border=\"1\" class=\"dataframe\">\n",
       "  <thead>\n",
       "    <tr style=\"text-align: right;\">\n",
       "      <th></th>\n",
       "      <th>PassengerId</th>\n",
       "      <th>Pclass</th>\n",
       "      <th>Name</th>\n",
       "      <th>Sex</th>\n",
       "      <th>Age</th>\n",
       "      <th>SibSp</th>\n",
       "      <th>Parch</th>\n",
       "      <th>Ticket</th>\n",
       "      <th>Fare</th>\n",
       "      <th>Cabin</th>\n",
       "      <th>Embarked</th>\n",
       "    </tr>\n",
       "  </thead>\n",
       "  <tbody>\n",
       "    <tr>\n",
       "      <th>0</th>\n",
       "      <td>892</td>\n",
       "      <td>3</td>\n",
       "      <td>Kelly, Mr. James</td>\n",
       "      <td>male</td>\n",
       "      <td>34.5</td>\n",
       "      <td>0</td>\n",
       "      <td>0</td>\n",
       "      <td>330911</td>\n",
       "      <td>7.8292</td>\n",
       "      <td>NaN</td>\n",
       "      <td>Q</td>\n",
       "    </tr>\n",
       "    <tr>\n",
       "      <th>1</th>\n",
       "      <td>893</td>\n",
       "      <td>3</td>\n",
       "      <td>Wilkes, Mrs. James (Ellen Needs)</td>\n",
       "      <td>female</td>\n",
       "      <td>47.0</td>\n",
       "      <td>1</td>\n",
       "      <td>0</td>\n",
       "      <td>363272</td>\n",
       "      <td>7.0000</td>\n",
       "      <td>NaN</td>\n",
       "      <td>S</td>\n",
       "    </tr>\n",
       "    <tr>\n",
       "      <th>2</th>\n",
       "      <td>894</td>\n",
       "      <td>2</td>\n",
       "      <td>Myles, Mr. Thomas Francis</td>\n",
       "      <td>male</td>\n",
       "      <td>62.0</td>\n",
       "      <td>0</td>\n",
       "      <td>0</td>\n",
       "      <td>240276</td>\n",
       "      <td>9.6875</td>\n",
       "      <td>NaN</td>\n",
       "      <td>Q</td>\n",
       "    </tr>\n",
       "    <tr>\n",
       "      <th>3</th>\n",
       "      <td>895</td>\n",
       "      <td>3</td>\n",
       "      <td>Wirz, Mr. Albert</td>\n",
       "      <td>male</td>\n",
       "      <td>27.0</td>\n",
       "      <td>0</td>\n",
       "      <td>0</td>\n",
       "      <td>315154</td>\n",
       "      <td>8.6625</td>\n",
       "      <td>NaN</td>\n",
       "      <td>S</td>\n",
       "    </tr>\n",
       "    <tr>\n",
       "      <th>4</th>\n",
       "      <td>896</td>\n",
       "      <td>3</td>\n",
       "      <td>Hirvonen, Mrs. Alexander (Helga E Lindqvist)</td>\n",
       "      <td>female</td>\n",
       "      <td>22.0</td>\n",
       "      <td>1</td>\n",
       "      <td>1</td>\n",
       "      <td>3101298</td>\n",
       "      <td>12.2875</td>\n",
       "      <td>NaN</td>\n",
       "      <td>S</td>\n",
       "    </tr>\n",
       "    <tr>\n",
       "      <th>...</th>\n",
       "      <td>...</td>\n",
       "      <td>...</td>\n",
       "      <td>...</td>\n",
       "      <td>...</td>\n",
       "      <td>...</td>\n",
       "      <td>...</td>\n",
       "      <td>...</td>\n",
       "      <td>...</td>\n",
       "      <td>...</td>\n",
       "      <td>...</td>\n",
       "      <td>...</td>\n",
       "    </tr>\n",
       "    <tr>\n",
       "      <th>413</th>\n",
       "      <td>1305</td>\n",
       "      <td>3</td>\n",
       "      <td>Spector, Mr. Woolf</td>\n",
       "      <td>male</td>\n",
       "      <td>NaN</td>\n",
       "      <td>0</td>\n",
       "      <td>0</td>\n",
       "      <td>A.5. 3236</td>\n",
       "      <td>8.0500</td>\n",
       "      <td>NaN</td>\n",
       "      <td>S</td>\n",
       "    </tr>\n",
       "    <tr>\n",
       "      <th>414</th>\n",
       "      <td>1306</td>\n",
       "      <td>1</td>\n",
       "      <td>Oliva y Ocana, Dona. Fermina</td>\n",
       "      <td>female</td>\n",
       "      <td>39.0</td>\n",
       "      <td>0</td>\n",
       "      <td>0</td>\n",
       "      <td>PC 17758</td>\n",
       "      <td>108.9000</td>\n",
       "      <td>C105</td>\n",
       "      <td>C</td>\n",
       "    </tr>\n",
       "    <tr>\n",
       "      <th>415</th>\n",
       "      <td>1307</td>\n",
       "      <td>3</td>\n",
       "      <td>Saether, Mr. Simon Sivertsen</td>\n",
       "      <td>male</td>\n",
       "      <td>38.5</td>\n",
       "      <td>0</td>\n",
       "      <td>0</td>\n",
       "      <td>SOTON/O.Q. 3101262</td>\n",
       "      <td>7.2500</td>\n",
       "      <td>NaN</td>\n",
       "      <td>S</td>\n",
       "    </tr>\n",
       "    <tr>\n",
       "      <th>416</th>\n",
       "      <td>1308</td>\n",
       "      <td>3</td>\n",
       "      <td>Ware, Mr. Frederick</td>\n",
       "      <td>male</td>\n",
       "      <td>NaN</td>\n",
       "      <td>0</td>\n",
       "      <td>0</td>\n",
       "      <td>359309</td>\n",
       "      <td>8.0500</td>\n",
       "      <td>NaN</td>\n",
       "      <td>S</td>\n",
       "    </tr>\n",
       "    <tr>\n",
       "      <th>417</th>\n",
       "      <td>1309</td>\n",
       "      <td>3</td>\n",
       "      <td>Peter, Master. Michael J</td>\n",
       "      <td>male</td>\n",
       "      <td>NaN</td>\n",
       "      <td>1</td>\n",
       "      <td>1</td>\n",
       "      <td>2668</td>\n",
       "      <td>22.3583</td>\n",
       "      <td>NaN</td>\n",
       "      <td>C</td>\n",
       "    </tr>\n",
       "  </tbody>\n",
       "</table>\n",
       "<p>418 rows × 11 columns</p>\n",
       "</div>"
      ],
      "text/plain": [
       "     PassengerId  Pclass                                          Name  \\\n",
       "0            892       3                              Kelly, Mr. James   \n",
       "1            893       3              Wilkes, Mrs. James (Ellen Needs)   \n",
       "2            894       2                     Myles, Mr. Thomas Francis   \n",
       "3            895       3                              Wirz, Mr. Albert   \n",
       "4            896       3  Hirvonen, Mrs. Alexander (Helga E Lindqvist)   \n",
       "..           ...     ...                                           ...   \n",
       "413         1305       3                            Spector, Mr. Woolf   \n",
       "414         1306       1                  Oliva y Ocana, Dona. Fermina   \n",
       "415         1307       3                  Saether, Mr. Simon Sivertsen   \n",
       "416         1308       3                           Ware, Mr. Frederick   \n",
       "417         1309       3                      Peter, Master. Michael J   \n",
       "\n",
       "        Sex   Age  SibSp  Parch              Ticket      Fare Cabin Embarked  \n",
       "0      male  34.5      0      0              330911    7.8292   NaN        Q  \n",
       "1    female  47.0      1      0              363272    7.0000   NaN        S  \n",
       "2      male  62.0      0      0              240276    9.6875   NaN        Q  \n",
       "3      male  27.0      0      0              315154    8.6625   NaN        S  \n",
       "4    female  22.0      1      1             3101298   12.2875   NaN        S  \n",
       "..      ...   ...    ...    ...                 ...       ...   ...      ...  \n",
       "413    male   NaN      0      0           A.5. 3236    8.0500   NaN        S  \n",
       "414  female  39.0      0      0            PC 17758  108.9000  C105        C  \n",
       "415    male  38.5      0      0  SOTON/O.Q. 3101262    7.2500   NaN        S  \n",
       "416    male   NaN      0      0              359309    8.0500   NaN        S  \n",
       "417    male   NaN      1      1                2668   22.3583   NaN        C  \n",
       "\n",
       "[418 rows x 11 columns]"
      ]
     },
     "execution_count": 18,
     "metadata": {},
     "output_type": "execute_result"
    }
   ],
   "source": [
    "df_test\n"
   ]
  },
  {
   "cell_type": "code",
   "execution_count": 19,
   "id": "ad56241b",
   "metadata": {},
   "outputs": [],
   "source": [
    "df_test['isCabin'] = df_test['Cabin'].isna().apply(lambda X:0 if X else 1)\n",
    "df_test['Title'] = df_test['Name'].apply(lambda X:X.split('.')[0].split(' ')[1])\n",
    "titles = df_test['Title'].value_counts().index[:6]\n",
    "df_test['Title'] = df_test['Title'].apply(lambda X:X if X in titles else 'other')"
   ]
  },
  {
   "cell_type": "code",
   "execution_count": 21,
   "id": "9716c8a6",
   "metadata": {},
   "outputs": [
    {
     "data": {
      "text/plain": [
       "Mr        234\n",
       "Miss       77\n",
       "Mrs        70\n",
       "Master     19\n",
       "other      12\n",
       "y           4\n",
       "Col         2\n",
       "Name: Title, dtype: int64"
      ]
     },
     "execution_count": 21,
     "metadata": {},
     "output_type": "execute_result"
    }
   ],
   "source": [
    "df_test['Title'].value_counts()"
   ]
  },
  {
   "cell_type": "code",
   "execution_count": 22,
   "id": "9f9bcd8f",
   "metadata": {},
   "outputs": [],
   "source": [
    "numeric_feature= list(df_test.select_dtypes(exclude='object').columns)"
   ]
  },
  {
   "cell_type": "code",
   "execution_count": 23,
   "id": "9ad4641f",
   "metadata": {},
   "outputs": [],
   "source": [
    "numeric_feature.remove('PassengerId')"
   ]
  },
  {
   "cell_type": "code",
   "execution_count": 24,
   "id": "0f87df12",
   "metadata": {},
   "outputs": [
    {
     "data": {
      "text/plain": [
       "['Name', 'Sex', 'Ticket', 'Cabin', 'Embarked', 'Title']"
      ]
     },
     "execution_count": 24,
     "metadata": {},
     "output_type": "execute_result"
    }
   ],
   "source": [
    "cat_feature= list(df_test.select_dtypes(include='object').columns)\n",
    "cat_feature"
   ]
  },
  {
   "cell_type": "code",
   "execution_count": 25,
   "id": "662e14d5",
   "metadata": {},
   "outputs": [],
   "source": [
    "cat_feature.remove('Name')\n",
    "cat_feature.remove('Ticket')\n",
    "cat_feature.remove('Cabin')"
   ]
  },
  {
   "cell_type": "code",
   "execution_count": 26,
   "id": "63dfd272",
   "metadata": {},
   "outputs": [],
   "source": [
    "imputer.fit(df_test[numeric_feature])\n",
    "df_test[numeric_feature]=imputer.transform(df_test[numeric_feature])"
   ]
  },
  {
   "cell_type": "code",
   "execution_count": 27,
   "id": "43568090",
   "metadata": {},
   "outputs": [],
   "source": [
    "imputer.fit(df_test[cat_feature])\n",
    "df_test[cat_feature]=imputer.transform(df_test[cat_feature])"
   ]
  },
  {
   "cell_type": "code",
   "execution_count": 28,
   "id": "24760bc5",
   "metadata": {},
   "outputs": [
    {
     "data": {
      "text/plain": [
       "MinMaxScaler()"
      ]
     },
     "execution_count": 28,
     "metadata": {},
     "output_type": "execute_result"
    }
   ],
   "source": [
    "scaler.fit(df_test[numeric_feature])"
   ]
  },
  {
   "cell_type": "code",
   "execution_count": 29,
   "id": "4329cb9b",
   "metadata": {},
   "outputs": [],
   "source": [
    "df_test[numeric_feature]=scaler.transform(df_test[numeric_feature])"
   ]
  },
  {
   "cell_type": "code",
   "execution_count": 30,
   "id": "9950ff78",
   "metadata": {},
   "outputs": [],
   "source": [
    "ohe.fit(df_test[cat_feature])\n",
    "ohe.transform(df_test[cat_feature]).toarray()\n",
    "cat_onecode=ohe.get_feature_names()\n",
    "test=pd.DataFrame(data=ohe.transform(df_test[cat_feature]).toarray(),columns=cat_onecode)"
   ]
  },
  {
   "cell_type": "code",
   "execution_count": 31,
   "id": "3ba921c3",
   "metadata": {},
   "outputs": [
    {
     "data": {
      "text/plain": [
       "((891, 12), (418, 12))"
      ]
     },
     "execution_count": 31,
     "metadata": {},
     "output_type": "execute_result"
    }
   ],
   "source": [
    "train.shape,test.shape"
   ]
  },
  {
   "cell_type": "code",
   "execution_count": 32,
   "id": "8c13eeb3",
   "metadata": {},
   "outputs": [],
   "source": [
    "final_train=pd.concat([df_train[numeric_feature],train],axis=1)\n",
    "final_test=pd.concat([df_test[numeric_feature],test],axis=1)"
   ]
  },
  {
   "cell_type": "code",
   "execution_count": 33,
   "id": "b04d7794",
   "metadata": {},
   "outputs": [],
   "source": [
    "final_train.shape,final_test.shape\n",
    "x=final_train\n",
    "y=df_train['Survived']"
   ]
  },
  {
   "cell_type": "code",
   "execution_count": 31,
   "id": "42a0cb8b",
   "metadata": {},
   "outputs": [],
   "source": [
    "from sklearn.model_selection import GridSearchCV"
   ]
  },
  {
   "cell_type": "code",
   "execution_count": 32,
   "id": "eca1ea36",
   "metadata": {},
   "outputs": [
    {
     "name": "stdout",
     "output_type": "stream",
     "text": [
      "Fitting 5 folds for each of 120 candidates, totalling 600 fits\n",
      "[CV 1/5] END max_depth=2, min_samples_leaf=1, n_estimators=10;, score=0.816 total time=   0.1s\n",
      "[CV 2/5] END max_depth=2, min_samples_leaf=1, n_estimators=10;, score=0.815 total time=   0.0s\n",
      "[CV 3/5] END max_depth=2, min_samples_leaf=1, n_estimators=10;, score=0.792 total time=   0.0s\n",
      "[CV 4/5] END max_depth=2, min_samples_leaf=1, n_estimators=10;, score=0.753 total time=   0.0s\n",
      "[CV 5/5] END max_depth=2, min_samples_leaf=1, n_estimators=10;, score=0.787 total time=   0.0s\n",
      "[CV 1/5] END max_depth=2, min_samples_leaf=1, n_estimators=50;, score=0.799 total time=   0.0s\n",
      "[CV 2/5] END max_depth=2, min_samples_leaf=1, n_estimators=50;, score=0.803 total time=   0.0s\n",
      "[CV 3/5] END max_depth=2, min_samples_leaf=1, n_estimators=50;, score=0.787 total time=   0.0s\n",
      "[CV 4/5] END max_depth=2, min_samples_leaf=1, n_estimators=50;, score=0.753 total time=   0.0s\n",
      "[CV 5/5] END max_depth=2, min_samples_leaf=1, n_estimators=50;, score=0.787 total time=   0.0s\n",
      "[CV 1/5] END max_depth=2, min_samples_leaf=1, n_estimators=100;, score=0.799 total time=   0.1s\n",
      "[CV 2/5] END max_depth=2, min_samples_leaf=1, n_estimators=100;, score=0.815 total time=   0.1s\n",
      "[CV 3/5] END max_depth=2, min_samples_leaf=1, n_estimators=100;, score=0.792 total time=   0.0s\n",
      "[CV 4/5] END max_depth=2, min_samples_leaf=1, n_estimators=100;, score=0.753 total time=   0.0s\n",
      "[CV 5/5] END max_depth=2, min_samples_leaf=1, n_estimators=100;, score=0.787 total time=   0.1s\n",
      "[CV 1/5] END max_depth=2, min_samples_leaf=1, n_estimators=200;, score=0.799 total time=   0.3s\n",
      "[CV 2/5] END max_depth=2, min_samples_leaf=1, n_estimators=200;, score=0.809 total time=   0.4s\n",
      "[CV 3/5] END max_depth=2, min_samples_leaf=1, n_estimators=200;, score=0.787 total time=   0.3s\n",
      "[CV 4/5] END max_depth=2, min_samples_leaf=1, n_estimators=200;, score=0.753 total time=   0.4s\n",
      "[CV 5/5] END max_depth=2, min_samples_leaf=1, n_estimators=200;, score=0.787 total time=   0.2s\n",
      "[CV 1/5] END max_depth=2, min_samples_leaf=2, n_estimators=10;, score=0.816 total time=   0.0s\n",
      "[CV 2/5] END max_depth=2, min_samples_leaf=2, n_estimators=10;, score=0.815 total time=   0.0s\n",
      "[CV 3/5] END max_depth=2, min_samples_leaf=2, n_estimators=10;, score=0.798 total time=   0.0s\n",
      "[CV 4/5] END max_depth=2, min_samples_leaf=2, n_estimators=10;, score=0.753 total time=   0.0s\n",
      "[CV 5/5] END max_depth=2, min_samples_leaf=2, n_estimators=10;, score=0.787 total time=   0.0s\n",
      "[CV 1/5] END max_depth=2, min_samples_leaf=2, n_estimators=50;, score=0.799 total time=   0.0s\n",
      "[CV 2/5] END max_depth=2, min_samples_leaf=2, n_estimators=50;, score=0.803 total time=   0.0s\n",
      "[CV 3/5] END max_depth=2, min_samples_leaf=2, n_estimators=50;, score=0.792 total time=   0.0s\n",
      "[CV 4/5] END max_depth=2, min_samples_leaf=2, n_estimators=50;, score=0.753 total time=   0.0s\n",
      "[CV 5/5] END max_depth=2, min_samples_leaf=2, n_estimators=50;, score=0.787 total time=   0.0s\n",
      "[CV 1/5] END max_depth=2, min_samples_leaf=2, n_estimators=100;, score=0.799 total time=   0.1s\n",
      "[CV 2/5] END max_depth=2, min_samples_leaf=2, n_estimators=100;, score=0.809 total time=   0.1s\n",
      "[CV 3/5] END max_depth=2, min_samples_leaf=2, n_estimators=100;, score=0.792 total time=   0.1s\n",
      "[CV 4/5] END max_depth=2, min_samples_leaf=2, n_estimators=100;, score=0.753 total time=   0.1s\n",
      "[CV 5/5] END max_depth=2, min_samples_leaf=2, n_estimators=100;, score=0.787 total time=   0.1s\n",
      "[CV 1/5] END max_depth=2, min_samples_leaf=2, n_estimators=200;, score=0.799 total time=   0.3s\n",
      "[CV 2/5] END max_depth=2, min_samples_leaf=2, n_estimators=200;, score=0.809 total time=   0.3s\n",
      "[CV 3/5] END max_depth=2, min_samples_leaf=2, n_estimators=200;, score=0.792 total time=   0.3s\n",
      "[CV 4/5] END max_depth=2, min_samples_leaf=2, n_estimators=200;, score=0.753 total time=   0.3s\n",
      "[CV 5/5] END max_depth=2, min_samples_leaf=2, n_estimators=200;, score=0.787 total time=   0.3s\n",
      "[CV 1/5] END max_depth=2, min_samples_leaf=3, n_estimators=10;, score=0.816 total time=   0.0s\n",
      "[CV 2/5] END max_depth=2, min_samples_leaf=3, n_estimators=10;, score=0.815 total time=   0.0s\n",
      "[CV 3/5] END max_depth=2, min_samples_leaf=3, n_estimators=10;, score=0.798 total time=   0.0s\n",
      "[CV 4/5] END max_depth=2, min_samples_leaf=3, n_estimators=10;, score=0.753 total time=   0.0s\n",
      "[CV 5/5] END max_depth=2, min_samples_leaf=3, n_estimators=10;, score=0.787 total time=   0.0s\n",
      "[CV 1/5] END max_depth=2, min_samples_leaf=3, n_estimators=50;, score=0.799 total time=   0.0s\n",
      "[CV 2/5] END max_depth=2, min_samples_leaf=3, n_estimators=50;, score=0.803 total time=   0.0s\n",
      "[CV 3/5] END max_depth=2, min_samples_leaf=3, n_estimators=50;, score=0.792 total time=   0.0s\n",
      "[CV 4/5] END max_depth=2, min_samples_leaf=3, n_estimators=50;, score=0.753 total time=   0.0s\n",
      "[CV 5/5] END max_depth=2, min_samples_leaf=3, n_estimators=50;, score=0.787 total time=   0.0s\n",
      "[CV 1/5] END max_depth=2, min_samples_leaf=3, n_estimators=100;, score=0.799 total time=   0.1s\n",
      "[CV 2/5] END max_depth=2, min_samples_leaf=3, n_estimators=100;, score=0.809 total time=   0.1s\n",
      "[CV 3/5] END max_depth=2, min_samples_leaf=3, n_estimators=100;, score=0.792 total time=   0.1s\n",
      "[CV 4/5] END max_depth=2, min_samples_leaf=3, n_estimators=100;, score=0.753 total time=   0.1s\n",
      "[CV 5/5] END max_depth=2, min_samples_leaf=3, n_estimators=100;, score=0.787 total time=   0.1s\n",
      "[CV 1/5] END max_depth=2, min_samples_leaf=3, n_estimators=200;, score=0.799 total time=   0.2s\n",
      "[CV 2/5] END max_depth=2, min_samples_leaf=3, n_estimators=200;, score=0.809 total time=   0.2s\n",
      "[CV 3/5] END max_depth=2, min_samples_leaf=3, n_estimators=200;, score=0.792 total time=   0.3s\n",
      "[CV 4/5] END max_depth=2, min_samples_leaf=3, n_estimators=200;, score=0.753 total time=   0.3s\n",
      "[CV 5/5] END max_depth=2, min_samples_leaf=3, n_estimators=200;, score=0.787 total time=   0.3s\n",
      "[CV 1/5] END max_depth=2, min_samples_leaf=4, n_estimators=10;, score=0.816 total time=   0.0s\n",
      "[CV 2/5] END max_depth=2, min_samples_leaf=4, n_estimators=10;, score=0.815 total time=   0.0s\n",
      "[CV 3/5] END max_depth=2, min_samples_leaf=4, n_estimators=10;, score=0.798 total time=   0.0s\n",
      "[CV 4/5] END max_depth=2, min_samples_leaf=4, n_estimators=10;, score=0.753 total time=   0.0s\n",
      "[CV 5/5] END max_depth=2, min_samples_leaf=4, n_estimators=10;, score=0.787 total time=   0.0s\n",
      "[CV 1/5] END max_depth=2, min_samples_leaf=4, n_estimators=50;, score=0.799 total time=   0.0s\n",
      "[CV 2/5] END max_depth=2, min_samples_leaf=4, n_estimators=50;, score=0.809 total time=   0.0s\n",
      "[CV 3/5] END max_depth=2, min_samples_leaf=4, n_estimators=50;, score=0.792 total time=   0.0s\n",
      "[CV 4/5] END max_depth=2, min_samples_leaf=4, n_estimators=50;, score=0.753 total time=   0.0s\n",
      "[CV 5/5] END max_depth=2, min_samples_leaf=4, n_estimators=50;, score=0.787 total time=   0.0s\n",
      "[CV 1/5] END max_depth=2, min_samples_leaf=4, n_estimators=100;, score=0.799 total time=   0.1s\n",
      "[CV 2/5] END max_depth=2, min_samples_leaf=4, n_estimators=100;, score=0.815 total time=   0.1s\n",
      "[CV 3/5] END max_depth=2, min_samples_leaf=4, n_estimators=100;, score=0.792 total time=   0.1s\n",
      "[CV 4/5] END max_depth=2, min_samples_leaf=4, n_estimators=100;, score=0.753 total time=   0.1s\n",
      "[CV 5/5] END max_depth=2, min_samples_leaf=4, n_estimators=100;, score=0.787 total time=   0.1s\n",
      "[CV 1/5] END max_depth=2, min_samples_leaf=4, n_estimators=200;, score=0.799 total time=   0.2s\n",
      "[CV 2/5] END max_depth=2, min_samples_leaf=4, n_estimators=200;, score=0.809 total time=   0.2s\n",
      "[CV 3/5] END max_depth=2, min_samples_leaf=4, n_estimators=200;, score=0.792 total time=   0.2s\n",
      "[CV 4/5] END max_depth=2, min_samples_leaf=4, n_estimators=200;, score=0.753 total time=   0.3s\n",
      "[CV 5/5] END max_depth=2, min_samples_leaf=4, n_estimators=200;, score=0.787 total time=   0.3s\n",
      "[CV 1/5] END max_depth=2, min_samples_leaf=5, n_estimators=10;, score=0.816 total time=   0.0s\n",
      "[CV 2/5] END max_depth=2, min_samples_leaf=5, n_estimators=10;, score=0.815 total time=   0.0s\n",
      "[CV 3/5] END max_depth=2, min_samples_leaf=5, n_estimators=10;, score=0.798 total time=   0.0s\n",
      "[CV 4/5] END max_depth=2, min_samples_leaf=5, n_estimators=10;, score=0.753 total time=   0.0s\n",
      "[CV 5/5] END max_depth=2, min_samples_leaf=5, n_estimators=10;, score=0.787 total time=   0.0s\n",
      "[CV 1/5] END max_depth=2, min_samples_leaf=5, n_estimators=50;, score=0.799 total time=   0.0s\n",
      "[CV 2/5] END max_depth=2, min_samples_leaf=5, n_estimators=50;, score=0.809 total time=   0.0s\n",
      "[CV 3/5] END max_depth=2, min_samples_leaf=5, n_estimators=50;, score=0.792 total time=   0.0s\n"
     ]
    },
    {
     "name": "stdout",
     "output_type": "stream",
     "text": [
      "[CV 4/5] END max_depth=2, min_samples_leaf=5, n_estimators=50;, score=0.753 total time=   0.0s\n",
      "[CV 5/5] END max_depth=2, min_samples_leaf=5, n_estimators=50;, score=0.787 total time=   0.0s\n",
      "[CV 1/5] END max_depth=2, min_samples_leaf=5, n_estimators=100;, score=0.799 total time=   0.3s\n",
      "[CV 2/5] END max_depth=2, min_samples_leaf=5, n_estimators=100;, score=0.815 total time=   0.2s\n",
      "[CV 3/5] END max_depth=2, min_samples_leaf=5, n_estimators=100;, score=0.792 total time=   0.1s\n",
      "[CV 4/5] END max_depth=2, min_samples_leaf=5, n_estimators=100;, score=0.753 total time=   0.1s\n",
      "[CV 5/5] END max_depth=2, min_samples_leaf=5, n_estimators=100;, score=0.787 total time=   0.1s\n",
      "[CV 1/5] END max_depth=2, min_samples_leaf=5, n_estimators=200;, score=0.799 total time=   0.3s\n",
      "[CV 2/5] END max_depth=2, min_samples_leaf=5, n_estimators=200;, score=0.809 total time=   0.3s\n",
      "[CV 3/5] END max_depth=2, min_samples_leaf=5, n_estimators=200;, score=0.792 total time=   0.3s\n",
      "[CV 4/5] END max_depth=2, min_samples_leaf=5, n_estimators=200;, score=0.753 total time=   0.3s\n",
      "[CV 5/5] END max_depth=2, min_samples_leaf=5, n_estimators=200;, score=0.787 total time=   0.3s\n",
      "[CV 1/5] END max_depth=3, min_samples_leaf=1, n_estimators=10;, score=0.832 total time=   0.0s\n",
      "[CV 2/5] END max_depth=3, min_samples_leaf=1, n_estimators=10;, score=0.820 total time=   0.0s\n",
      "[CV 3/5] END max_depth=3, min_samples_leaf=1, n_estimators=10;, score=0.803 total time=   0.0s\n",
      "[CV 4/5] END max_depth=3, min_samples_leaf=1, n_estimators=10;, score=0.770 total time=   0.0s\n",
      "[CV 5/5] END max_depth=3, min_samples_leaf=1, n_estimators=10;, score=0.803 total time=   0.0s\n",
      "[CV 1/5] END max_depth=3, min_samples_leaf=1, n_estimators=50;, score=0.827 total time=   0.0s\n",
      "[CV 2/5] END max_depth=3, min_samples_leaf=1, n_estimators=50;, score=0.809 total time=   0.0s\n",
      "[CV 3/5] END max_depth=3, min_samples_leaf=1, n_estimators=50;, score=0.803 total time=   0.0s\n",
      "[CV 4/5] END max_depth=3, min_samples_leaf=1, n_estimators=50;, score=0.775 total time=   0.0s\n",
      "[CV 5/5] END max_depth=3, min_samples_leaf=1, n_estimators=50;, score=0.809 total time=   0.0s\n",
      "[CV 1/5] END max_depth=3, min_samples_leaf=1, n_estimators=100;, score=0.827 total time=   0.1s\n",
      "[CV 2/5] END max_depth=3, min_samples_leaf=1, n_estimators=100;, score=0.809 total time=   0.1s\n",
      "[CV 3/5] END max_depth=3, min_samples_leaf=1, n_estimators=100;, score=0.803 total time=   0.1s\n",
      "[CV 4/5] END max_depth=3, min_samples_leaf=1, n_estimators=100;, score=0.775 total time=   0.1s\n",
      "[CV 5/5] END max_depth=3, min_samples_leaf=1, n_estimators=100;, score=0.803 total time=   0.1s\n",
      "[CV 1/5] END max_depth=3, min_samples_leaf=1, n_estimators=200;, score=0.827 total time=   0.2s\n",
      "[CV 2/5] END max_depth=3, min_samples_leaf=1, n_estimators=200;, score=0.809 total time=   0.2s\n",
      "[CV 3/5] END max_depth=3, min_samples_leaf=1, n_estimators=200;, score=0.798 total time=   0.2s\n",
      "[CV 4/5] END max_depth=3, min_samples_leaf=1, n_estimators=200;, score=0.775 total time=   0.2s\n",
      "[CV 5/5] END max_depth=3, min_samples_leaf=1, n_estimators=200;, score=0.809 total time=   0.2s\n",
      "[CV 1/5] END max_depth=3, min_samples_leaf=2, n_estimators=10;, score=0.827 total time=   0.0s\n",
      "[CV 2/5] END max_depth=3, min_samples_leaf=2, n_estimators=10;, score=0.820 total time=   0.0s\n",
      "[CV 3/5] END max_depth=3, min_samples_leaf=2, n_estimators=10;, score=0.803 total time=   0.0s\n",
      "[CV 4/5] END max_depth=3, min_samples_leaf=2, n_estimators=10;, score=0.770 total time=   0.0s\n",
      "[CV 5/5] END max_depth=3, min_samples_leaf=2, n_estimators=10;, score=0.809 total time=   0.0s\n",
      "[CV 1/5] END max_depth=3, min_samples_leaf=2, n_estimators=50;, score=0.827 total time=   0.0s\n",
      "[CV 2/5] END max_depth=3, min_samples_leaf=2, n_estimators=50;, score=0.815 total time=   0.0s\n",
      "[CV 3/5] END max_depth=3, min_samples_leaf=2, n_estimators=50;, score=0.803 total time=   0.0s\n",
      "[CV 4/5] END max_depth=3, min_samples_leaf=2, n_estimators=50;, score=0.775 total time=   0.0s\n",
      "[CV 5/5] END max_depth=3, min_samples_leaf=2, n_estimators=50;, score=0.809 total time=   0.0s\n",
      "[CV 1/5] END max_depth=3, min_samples_leaf=2, n_estimators=100;, score=0.827 total time=   0.1s\n",
      "[CV 2/5] END max_depth=3, min_samples_leaf=2, n_estimators=100;, score=0.809 total time=   0.1s\n",
      "[CV 3/5] END max_depth=3, min_samples_leaf=2, n_estimators=100;, score=0.803 total time=   0.1s\n",
      "[CV 4/5] END max_depth=3, min_samples_leaf=2, n_estimators=100;, score=0.775 total time=   0.2s\n",
      "[CV 5/5] END max_depth=3, min_samples_leaf=2, n_estimators=100;, score=0.803 total time=   0.1s\n",
      "[CV 1/5] END max_depth=3, min_samples_leaf=2, n_estimators=200;, score=0.821 total time=   0.2s\n",
      "[CV 2/5] END max_depth=3, min_samples_leaf=2, n_estimators=200;, score=0.815 total time=   0.2s\n",
      "[CV 3/5] END max_depth=3, min_samples_leaf=2, n_estimators=200;, score=0.798 total time=   0.2s\n",
      "[CV 4/5] END max_depth=3, min_samples_leaf=2, n_estimators=200;, score=0.775 total time=   0.2s\n",
      "[CV 5/5] END max_depth=3, min_samples_leaf=2, n_estimators=200;, score=0.809 total time=   0.2s\n",
      "[CV 1/5] END max_depth=3, min_samples_leaf=3, n_estimators=10;, score=0.827 total time=   0.0s\n",
      "[CV 2/5] END max_depth=3, min_samples_leaf=3, n_estimators=10;, score=0.820 total time=   0.0s\n",
      "[CV 3/5] END max_depth=3, min_samples_leaf=3, n_estimators=10;, score=0.803 total time=   0.0s\n",
      "[CV 4/5] END max_depth=3, min_samples_leaf=3, n_estimators=10;, score=0.770 total time=   0.0s\n",
      "[CV 5/5] END max_depth=3, min_samples_leaf=3, n_estimators=10;, score=0.803 total time=   0.0s\n",
      "[CV 1/5] END max_depth=3, min_samples_leaf=3, n_estimators=50;, score=0.827 total time=   0.0s\n",
      "[CV 2/5] END max_depth=3, min_samples_leaf=3, n_estimators=50;, score=0.815 total time=   0.0s\n",
      "[CV 3/5] END max_depth=3, min_samples_leaf=3, n_estimators=50;, score=0.803 total time=   0.0s\n",
      "[CV 4/5] END max_depth=3, min_samples_leaf=3, n_estimators=50;, score=0.775 total time=   0.0s\n",
      "[CV 5/5] END max_depth=3, min_samples_leaf=3, n_estimators=50;, score=0.815 total time=   0.0s\n",
      "[CV 1/5] END max_depth=3, min_samples_leaf=3, n_estimators=100;, score=0.827 total time=   0.1s\n",
      "[CV 2/5] END max_depth=3, min_samples_leaf=3, n_estimators=100;, score=0.809 total time=   0.1s\n",
      "[CV 3/5] END max_depth=3, min_samples_leaf=3, n_estimators=100;, score=0.803 total time=   0.1s\n",
      "[CV 4/5] END max_depth=3, min_samples_leaf=3, n_estimators=100;, score=0.775 total time=   0.1s\n",
      "[CV 5/5] END max_depth=3, min_samples_leaf=3, n_estimators=100;, score=0.803 total time=   0.1s\n",
      "[CV 1/5] END max_depth=3, min_samples_leaf=3, n_estimators=200;, score=0.827 total time=   0.2s\n",
      "[CV 2/5] END max_depth=3, min_samples_leaf=3, n_estimators=200;, score=0.815 total time=   0.3s\n",
      "[CV 3/5] END max_depth=3, min_samples_leaf=3, n_estimators=200;, score=0.798 total time=   0.3s\n",
      "[CV 4/5] END max_depth=3, min_samples_leaf=3, n_estimators=200;, score=0.775 total time=   0.2s\n",
      "[CV 5/5] END max_depth=3, min_samples_leaf=3, n_estimators=200;, score=0.809 total time=   0.2s\n",
      "[CV 1/5] END max_depth=3, min_samples_leaf=4, n_estimators=10;, score=0.827 total time=   0.0s\n",
      "[CV 2/5] END max_depth=3, min_samples_leaf=4, n_estimators=10;, score=0.820 total time=   0.0s\n",
      "[CV 3/5] END max_depth=3, min_samples_leaf=4, n_estimators=10;, score=0.809 total time=   0.0s\n",
      "[CV 4/5] END max_depth=3, min_samples_leaf=4, n_estimators=10;, score=0.770 total time=   0.0s\n",
      "[CV 5/5] END max_depth=3, min_samples_leaf=4, n_estimators=10;, score=0.803 total time=   0.0s\n",
      "[CV 1/5] END max_depth=3, min_samples_leaf=4, n_estimators=50;, score=0.827 total time=   0.0s\n",
      "[CV 2/5] END max_depth=3, min_samples_leaf=4, n_estimators=50;, score=0.815 total time=   0.0s\n",
      "[CV 3/5] END max_depth=3, min_samples_leaf=4, n_estimators=50;, score=0.798 total time=   0.0s\n",
      "[CV 4/5] END max_depth=3, min_samples_leaf=4, n_estimators=50;, score=0.775 total time=   0.0s\n",
      "[CV 5/5] END max_depth=3, min_samples_leaf=4, n_estimators=50;, score=0.809 total time=   0.0s\n",
      "[CV 1/5] END max_depth=3, min_samples_leaf=4, n_estimators=100;, score=0.821 total time=   0.1s\n",
      "[CV 2/5] END max_depth=3, min_samples_leaf=4, n_estimators=100;, score=0.809 total time=   0.1s\n",
      "[CV 3/5] END max_depth=3, min_samples_leaf=4, n_estimators=100;, score=0.792 total time=   0.1s\n",
      "[CV 4/5] END max_depth=3, min_samples_leaf=4, n_estimators=100;, score=0.775 total time=   0.1s\n"
     ]
    },
    {
     "name": "stdout",
     "output_type": "stream",
     "text": [
      "[CV 5/5] END max_depth=3, min_samples_leaf=4, n_estimators=100;, score=0.803 total time=   0.1s\n",
      "[CV 1/5] END max_depth=3, min_samples_leaf=4, n_estimators=200;, score=0.821 total time=   0.3s\n",
      "[CV 2/5] END max_depth=3, min_samples_leaf=4, n_estimators=200;, score=0.815 total time=   0.3s\n",
      "[CV 3/5] END max_depth=3, min_samples_leaf=4, n_estimators=200;, score=0.787 total time=   0.3s\n",
      "[CV 4/5] END max_depth=3, min_samples_leaf=4, n_estimators=200;, score=0.775 total time=   0.3s\n",
      "[CV 5/5] END max_depth=3, min_samples_leaf=4, n_estimators=200;, score=0.809 total time=   0.3s\n",
      "[CV 1/5] END max_depth=3, min_samples_leaf=5, n_estimators=10;, score=0.827 total time=   0.0s\n",
      "[CV 2/5] END max_depth=3, min_samples_leaf=5, n_estimators=10;, score=0.820 total time=   0.0s\n",
      "[CV 3/5] END max_depth=3, min_samples_leaf=5, n_estimators=10;, score=0.809 total time=   0.0s\n",
      "[CV 4/5] END max_depth=3, min_samples_leaf=5, n_estimators=10;, score=0.775 total time=   0.0s\n",
      "[CV 5/5] END max_depth=3, min_samples_leaf=5, n_estimators=10;, score=0.809 total time=   0.0s\n",
      "[CV 1/5] END max_depth=3, min_samples_leaf=5, n_estimators=50;, score=0.827 total time=   0.0s\n",
      "[CV 2/5] END max_depth=3, min_samples_leaf=5, n_estimators=50;, score=0.815 total time=   0.0s\n",
      "[CV 3/5] END max_depth=3, min_samples_leaf=5, n_estimators=50;, score=0.798 total time=   0.0s\n",
      "[CV 4/5] END max_depth=3, min_samples_leaf=5, n_estimators=50;, score=0.775 total time=   0.0s\n",
      "[CV 5/5] END max_depth=3, min_samples_leaf=5, n_estimators=50;, score=0.809 total time=   0.0s\n",
      "[CV 1/5] END max_depth=3, min_samples_leaf=5, n_estimators=100;, score=0.821 total time=   0.1s\n",
      "[CV 2/5] END max_depth=3, min_samples_leaf=5, n_estimators=100;, score=0.809 total time=   0.1s\n",
      "[CV 3/5] END max_depth=3, min_samples_leaf=5, n_estimators=100;, score=0.792 total time=   0.1s\n",
      "[CV 4/5] END max_depth=3, min_samples_leaf=5, n_estimators=100;, score=0.775 total time=   0.1s\n",
      "[CV 5/5] END max_depth=3, min_samples_leaf=5, n_estimators=100;, score=0.803 total time=   0.1s\n",
      "[CV 1/5] END max_depth=3, min_samples_leaf=5, n_estimators=200;, score=0.821 total time=   0.3s\n",
      "[CV 2/5] END max_depth=3, min_samples_leaf=5, n_estimators=200;, score=0.815 total time=   0.2s\n",
      "[CV 3/5] END max_depth=3, min_samples_leaf=5, n_estimators=200;, score=0.798 total time=   0.3s\n",
      "[CV 4/5] END max_depth=3, min_samples_leaf=5, n_estimators=200;, score=0.775 total time=   0.3s\n",
      "[CV 5/5] END max_depth=3, min_samples_leaf=5, n_estimators=200;, score=0.809 total time=   0.3s\n",
      "[CV 1/5] END max_depth=4, min_samples_leaf=1, n_estimators=10;, score=0.821 total time=   0.0s\n",
      "[CV 2/5] END max_depth=4, min_samples_leaf=1, n_estimators=10;, score=0.820 total time=   0.0s\n",
      "[CV 3/5] END max_depth=4, min_samples_leaf=1, n_estimators=10;, score=0.792 total time=   0.0s\n",
      "[CV 4/5] END max_depth=4, min_samples_leaf=1, n_estimators=10;, score=0.781 total time=   0.0s\n",
      "[CV 5/5] END max_depth=4, min_samples_leaf=1, n_estimators=10;, score=0.837 total time=   0.0s\n",
      "[CV 1/5] END max_depth=4, min_samples_leaf=1, n_estimators=50;, score=0.838 total time=   0.0s\n",
      "[CV 2/5] END max_depth=4, min_samples_leaf=1, n_estimators=50;, score=0.820 total time=   0.0s\n",
      "[CV 3/5] END max_depth=4, min_samples_leaf=1, n_estimators=50;, score=0.815 total time=   0.0s\n",
      "[CV 4/5] END max_depth=4, min_samples_leaf=1, n_estimators=50;, score=0.781 total time=   0.0s\n",
      "[CV 5/5] END max_depth=4, min_samples_leaf=1, n_estimators=50;, score=0.848 total time=   0.0s\n",
      "[CV 1/5] END max_depth=4, min_samples_leaf=1, n_estimators=100;, score=0.838 total time=   0.1s\n",
      "[CV 2/5] END max_depth=4, min_samples_leaf=1, n_estimators=100;, score=0.820 total time=   0.1s\n",
      "[CV 3/5] END max_depth=4, min_samples_leaf=1, n_estimators=100;, score=0.820 total time=   0.1s\n",
      "[CV 4/5] END max_depth=4, min_samples_leaf=1, n_estimators=100;, score=0.781 total time=   0.1s\n",
      "[CV 5/5] END max_depth=4, min_samples_leaf=1, n_estimators=100;, score=0.843 total time=   0.1s\n",
      "[CV 1/5] END max_depth=4, min_samples_leaf=1, n_estimators=200;, score=0.838 total time=   0.3s\n",
      "[CV 2/5] END max_depth=4, min_samples_leaf=1, n_estimators=200;, score=0.820 total time=   0.2s\n",
      "[CV 3/5] END max_depth=4, min_samples_leaf=1, n_estimators=200;, score=0.820 total time=   0.3s\n",
      "[CV 4/5] END max_depth=4, min_samples_leaf=1, n_estimators=200;, score=0.770 total time=   0.3s\n",
      "[CV 5/5] END max_depth=4, min_samples_leaf=1, n_estimators=200;, score=0.848 total time=   0.3s\n",
      "[CV 1/5] END max_depth=4, min_samples_leaf=2, n_estimators=10;, score=0.816 total time=   0.0s\n",
      "[CV 2/5] END max_depth=4, min_samples_leaf=2, n_estimators=10;, score=0.826 total time=   0.0s\n",
      "[CV 3/5] END max_depth=4, min_samples_leaf=2, n_estimators=10;, score=0.803 total time=   0.0s\n",
      "[CV 4/5] END max_depth=4, min_samples_leaf=2, n_estimators=10;, score=0.781 total time=   0.0s\n",
      "[CV 5/5] END max_depth=4, min_samples_leaf=2, n_estimators=10;, score=0.843 total time=   0.0s\n",
      "[CV 1/5] END max_depth=4, min_samples_leaf=2, n_estimators=50;, score=0.832 total time=   0.0s\n",
      "[CV 2/5] END max_depth=4, min_samples_leaf=2, n_estimators=50;, score=0.820 total time=   0.0s\n",
      "[CV 3/5] END max_depth=4, min_samples_leaf=2, n_estimators=50;, score=0.815 total time=   0.0s\n",
      "[CV 4/5] END max_depth=4, min_samples_leaf=2, n_estimators=50;, score=0.781 total time=   0.0s\n",
      "[CV 5/5] END max_depth=4, min_samples_leaf=2, n_estimators=50;, score=0.837 total time=   0.0s\n",
      "[CV 1/5] END max_depth=4, min_samples_leaf=2, n_estimators=100;, score=0.832 total time=   0.1s\n",
      "[CV 2/5] END max_depth=4, min_samples_leaf=2, n_estimators=100;, score=0.826 total time=   0.2s\n",
      "[CV 3/5] END max_depth=4, min_samples_leaf=2, n_estimators=100;, score=0.820 total time=   0.1s\n",
      "[CV 4/5] END max_depth=4, min_samples_leaf=2, n_estimators=100;, score=0.781 total time=   0.1s\n",
      "[CV 5/5] END max_depth=4, min_samples_leaf=2, n_estimators=100;, score=0.837 total time=   0.1s\n",
      "[CV 1/5] END max_depth=4, min_samples_leaf=2, n_estimators=200;, score=0.832 total time=   0.2s\n",
      "[CV 2/5] END max_depth=4, min_samples_leaf=2, n_estimators=200;, score=0.820 total time=   0.2s\n",
      "[CV 3/5] END max_depth=4, min_samples_leaf=2, n_estimators=200;, score=0.820 total time=   0.2s\n",
      "[CV 4/5] END max_depth=4, min_samples_leaf=2, n_estimators=200;, score=0.770 total time=   0.3s\n",
      "[CV 5/5] END max_depth=4, min_samples_leaf=2, n_estimators=200;, score=0.854 total time=   0.2s\n",
      "[CV 1/5] END max_depth=4, min_samples_leaf=3, n_estimators=10;, score=0.821 total time=   0.0s\n",
      "[CV 2/5] END max_depth=4, min_samples_leaf=3, n_estimators=10;, score=0.815 total time=   0.0s\n",
      "[CV 3/5] END max_depth=4, min_samples_leaf=3, n_estimators=10;, score=0.803 total time=   0.0s\n",
      "[CV 4/5] END max_depth=4, min_samples_leaf=3, n_estimators=10;, score=0.781 total time=   0.0s\n",
      "[CV 5/5] END max_depth=4, min_samples_leaf=3, n_estimators=10;, score=0.843 total time=   0.0s\n",
      "[CV 1/5] END max_depth=4, min_samples_leaf=3, n_estimators=50;, score=0.832 total time=   0.0s\n",
      "[CV 2/5] END max_depth=4, min_samples_leaf=3, n_estimators=50;, score=0.820 total time=   0.0s\n",
      "[CV 3/5] END max_depth=4, min_samples_leaf=3, n_estimators=50;, score=0.820 total time=   0.0s\n",
      "[CV 4/5] END max_depth=4, min_samples_leaf=3, n_estimators=50;, score=0.781 total time=   0.0s\n",
      "[CV 5/5] END max_depth=4, min_samples_leaf=3, n_estimators=50;, score=0.837 total time=   0.0s\n",
      "[CV 1/5] END max_depth=4, min_samples_leaf=3, n_estimators=100;, score=0.832 total time=   0.1s\n",
      "[CV 2/5] END max_depth=4, min_samples_leaf=3, n_estimators=100;, score=0.820 total time=   0.1s\n",
      "[CV 3/5] END max_depth=4, min_samples_leaf=3, n_estimators=100;, score=0.820 total time=   0.1s\n",
      "[CV 4/5] END max_depth=4, min_samples_leaf=3, n_estimators=100;, score=0.775 total time=   0.2s\n",
      "[CV 5/5] END max_depth=4, min_samples_leaf=3, n_estimators=100;, score=0.826 total time=   0.1s\n",
      "[CV 1/5] END max_depth=4, min_samples_leaf=3, n_estimators=200;, score=0.832 total time=   0.4s\n",
      "[CV 2/5] END max_depth=4, min_samples_leaf=3, n_estimators=200;, score=0.826 total time=   0.2s\n",
      "[CV 3/5] END max_depth=4, min_samples_leaf=3, n_estimators=200;, score=0.820 total time=   0.3s\n",
      "[CV 4/5] END max_depth=4, min_samples_leaf=3, n_estimators=200;, score=0.775 total time=   0.2s\n",
      "[CV 5/5] END max_depth=4, min_samples_leaf=3, n_estimators=200;, score=0.837 total time=   0.3s\n",
      "[CV 1/5] END max_depth=4, min_samples_leaf=4, n_estimators=10;, score=0.821 total time=   0.0s\n",
      "[CV 2/5] END max_depth=4, min_samples_leaf=4, n_estimators=10;, score=0.820 total time=   0.0s\n",
      "[CV 3/5] END max_depth=4, min_samples_leaf=4, n_estimators=10;, score=0.792 total time=   0.0s\n",
      "[CV 4/5] END max_depth=4, min_samples_leaf=4, n_estimators=10;, score=0.781 total time=   0.0s\n",
      "[CV 5/5] END max_depth=4, min_samples_leaf=4, n_estimators=10;, score=0.843 total time=   0.0s\n",
      "[CV 1/5] END max_depth=4, min_samples_leaf=4, n_estimators=50;, score=0.832 total time=   0.0s\n"
     ]
    },
    {
     "name": "stdout",
     "output_type": "stream",
     "text": [
      "[CV 2/5] END max_depth=4, min_samples_leaf=4, n_estimators=50;, score=0.815 total time=   0.0s\n",
      "[CV 3/5] END max_depth=4, min_samples_leaf=4, n_estimators=50;, score=0.820 total time=   0.0s\n",
      "[CV 4/5] END max_depth=4, min_samples_leaf=4, n_estimators=50;, score=0.781 total time=   0.0s\n",
      "[CV 5/5] END max_depth=4, min_samples_leaf=4, n_estimators=50;, score=0.831 total time=   0.0s\n",
      "[CV 1/5] END max_depth=4, min_samples_leaf=4, n_estimators=100;, score=0.832 total time=   0.1s\n",
      "[CV 2/5] END max_depth=4, min_samples_leaf=4, n_estimators=100;, score=0.815 total time=   0.1s\n",
      "[CV 3/5] END max_depth=4, min_samples_leaf=4, n_estimators=100;, score=0.820 total time=   0.1s\n",
      "[CV 4/5] END max_depth=4, min_samples_leaf=4, n_estimators=100;, score=0.781 total time=   0.1s\n",
      "[CV 5/5] END max_depth=4, min_samples_leaf=4, n_estimators=100;, score=0.826 total time=   0.1s\n",
      "[CV 1/5] END max_depth=4, min_samples_leaf=4, n_estimators=200;, score=0.832 total time=   0.5s\n",
      "[CV 2/5] END max_depth=4, min_samples_leaf=4, n_estimators=200;, score=0.826 total time=   0.6s\n",
      "[CV 3/5] END max_depth=4, min_samples_leaf=4, n_estimators=200;, score=0.815 total time=   0.6s\n",
      "[CV 4/5] END max_depth=4, min_samples_leaf=4, n_estimators=200;, score=0.775 total time=   0.5s\n",
      "[CV 5/5] END max_depth=4, min_samples_leaf=4, n_estimators=200;, score=0.837 total time=   0.5s\n",
      "[CV 1/5] END max_depth=4, min_samples_leaf=5, n_estimators=10;, score=0.832 total time=   0.0s\n",
      "[CV 2/5] END max_depth=4, min_samples_leaf=5, n_estimators=10;, score=0.820 total time=   0.0s\n",
      "[CV 3/5] END max_depth=4, min_samples_leaf=5, n_estimators=10;, score=0.792 total time=   0.0s\n",
      "[CV 4/5] END max_depth=4, min_samples_leaf=5, n_estimators=10;, score=0.781 total time=   0.0s\n",
      "[CV 5/5] END max_depth=4, min_samples_leaf=5, n_estimators=10;, score=0.843 total time=   0.0s\n",
      "[CV 1/5] END max_depth=4, min_samples_leaf=5, n_estimators=50;, score=0.832 total time=   0.0s\n",
      "[CV 2/5] END max_depth=4, min_samples_leaf=5, n_estimators=50;, score=0.820 total time=   0.1s\n",
      "[CV 3/5] END max_depth=4, min_samples_leaf=5, n_estimators=50;, score=0.815 total time=   0.0s\n",
      "[CV 4/5] END max_depth=4, min_samples_leaf=5, n_estimators=50;, score=0.781 total time=   0.0s\n",
      "[CV 5/5] END max_depth=4, min_samples_leaf=5, n_estimators=50;, score=0.837 total time=   0.0s\n",
      "[CV 1/5] END max_depth=4, min_samples_leaf=5, n_estimators=100;, score=0.832 total time=   0.1s\n",
      "[CV 2/5] END max_depth=4, min_samples_leaf=5, n_estimators=100;, score=0.820 total time=   0.2s\n",
      "[CV 3/5] END max_depth=4, min_samples_leaf=5, n_estimators=100;, score=0.820 total time=   0.1s\n",
      "[CV 4/5] END max_depth=4, min_samples_leaf=5, n_estimators=100;, score=0.781 total time=   0.1s\n",
      "[CV 5/5] END max_depth=4, min_samples_leaf=5, n_estimators=100;, score=0.831 total time=   0.1s\n",
      "[CV 1/5] END max_depth=4, min_samples_leaf=5, n_estimators=200;, score=0.832 total time=   0.2s\n",
      "[CV 2/5] END max_depth=4, min_samples_leaf=5, n_estimators=200;, score=0.820 total time=   0.3s\n",
      "[CV 3/5] END max_depth=4, min_samples_leaf=5, n_estimators=200;, score=0.815 total time=   0.3s\n",
      "[CV 4/5] END max_depth=4, min_samples_leaf=5, n_estimators=200;, score=0.781 total time=   0.2s\n",
      "[CV 5/5] END max_depth=4, min_samples_leaf=5, n_estimators=200;, score=0.837 total time=   0.2s\n",
      "[CV 1/5] END max_depth=5, min_samples_leaf=1, n_estimators=10;, score=0.821 total time=   0.0s\n",
      "[CV 2/5] END max_depth=5, min_samples_leaf=1, n_estimators=10;, score=0.815 total time=   0.0s\n",
      "[CV 3/5] END max_depth=5, min_samples_leaf=1, n_estimators=10;, score=0.815 total time=   0.0s\n",
      "[CV 4/5] END max_depth=5, min_samples_leaf=1, n_estimators=10;, score=0.770 total time=   0.0s\n",
      "[CV 5/5] END max_depth=5, min_samples_leaf=1, n_estimators=10;, score=0.837 total time=   0.0s\n",
      "[CV 1/5] END max_depth=5, min_samples_leaf=1, n_estimators=50;, score=0.855 total time=   0.0s\n",
      "[CV 2/5] END max_depth=5, min_samples_leaf=1, n_estimators=50;, score=0.820 total time=   0.0s\n",
      "[CV 3/5] END max_depth=5, min_samples_leaf=1, n_estimators=50;, score=0.826 total time=   0.0s\n",
      "[CV 4/5] END max_depth=5, min_samples_leaf=1, n_estimators=50;, score=0.775 total time=   0.0s\n",
      "[CV 5/5] END max_depth=5, min_samples_leaf=1, n_estimators=50;, score=0.865 total time=   0.0s\n",
      "[CV 1/5] END max_depth=5, min_samples_leaf=1, n_estimators=100;, score=0.860 total time=   0.1s\n",
      "[CV 2/5] END max_depth=5, min_samples_leaf=1, n_estimators=100;, score=0.815 total time=   0.1s\n",
      "[CV 3/5] END max_depth=5, min_samples_leaf=1, n_estimators=100;, score=0.831 total time=   0.1s\n",
      "[CV 4/5] END max_depth=5, min_samples_leaf=1, n_estimators=100;, score=0.792 total time=   0.1s\n",
      "[CV 5/5] END max_depth=5, min_samples_leaf=1, n_estimators=100;, score=0.871 total time=   0.1s\n",
      "[CV 1/5] END max_depth=5, min_samples_leaf=1, n_estimators=200;, score=0.849 total time=   0.3s\n",
      "[CV 2/5] END max_depth=5, min_samples_leaf=1, n_estimators=200;, score=0.815 total time=   0.3s\n",
      "[CV 3/5] END max_depth=5, min_samples_leaf=1, n_estimators=200;, score=0.820 total time=   0.4s\n",
      "[CV 4/5] END max_depth=5, min_samples_leaf=1, n_estimators=200;, score=0.787 total time=   0.4s\n",
      "[CV 5/5] END max_depth=5, min_samples_leaf=1, n_estimators=200;, score=0.871 total time=   0.3s\n",
      "[CV 1/5] END max_depth=5, min_samples_leaf=2, n_estimators=10;, score=0.838 total time=   0.0s\n",
      "[CV 2/5] END max_depth=5, min_samples_leaf=2, n_estimators=10;, score=0.820 total time=   0.0s\n",
      "[CV 3/5] END max_depth=5, min_samples_leaf=2, n_estimators=10;, score=0.809 total time=   0.0s\n",
      "[CV 4/5] END max_depth=5, min_samples_leaf=2, n_estimators=10;, score=0.798 total time=   0.0s\n",
      "[CV 5/5] END max_depth=5, min_samples_leaf=2, n_estimators=10;, score=0.854 total time=   0.0s\n",
      "[CV 1/5] END max_depth=5, min_samples_leaf=2, n_estimators=50;, score=0.844 total time=   0.0s\n",
      "[CV 2/5] END max_depth=5, min_samples_leaf=2, n_estimators=50;, score=0.820 total time=   0.0s\n",
      "[CV 3/5] END max_depth=5, min_samples_leaf=2, n_estimators=50;, score=0.820 total time=   0.0s\n",
      "[CV 4/5] END max_depth=5, min_samples_leaf=2, n_estimators=50;, score=0.792 total time=   0.0s\n",
      "[CV 5/5] END max_depth=5, min_samples_leaf=2, n_estimators=50;, score=0.871 total time=   0.0s\n",
      "[CV 1/5] END max_depth=5, min_samples_leaf=2, n_estimators=100;, score=0.849 total time=   0.1s\n",
      "[CV 2/5] END max_depth=5, min_samples_leaf=2, n_estimators=100;, score=0.820 total time=   0.1s\n",
      "[CV 3/5] END max_depth=5, min_samples_leaf=2, n_estimators=100;, score=0.826 total time=   0.1s\n",
      "[CV 4/5] END max_depth=5, min_samples_leaf=2, n_estimators=100;, score=0.792 total time=   0.1s\n",
      "[CV 5/5] END max_depth=5, min_samples_leaf=2, n_estimators=100;, score=0.876 total time=   0.1s\n",
      "[CV 1/5] END max_depth=5, min_samples_leaf=2, n_estimators=200;, score=0.838 total time=   0.2s\n",
      "[CV 2/5] END max_depth=5, min_samples_leaf=2, n_estimators=200;, score=0.820 total time=   0.3s\n",
      "[CV 3/5] END max_depth=5, min_samples_leaf=2, n_estimators=200;, score=0.820 total time=   0.3s\n",
      "[CV 4/5] END max_depth=5, min_samples_leaf=2, n_estimators=200;, score=0.792 total time=   0.2s\n",
      "[CV 5/5] END max_depth=5, min_samples_leaf=2, n_estimators=200;, score=0.865 total time=   0.2s\n",
      "[CV 1/5] END max_depth=5, min_samples_leaf=3, n_estimators=10;, score=0.821 total time=   0.0s\n",
      "[CV 2/5] END max_depth=5, min_samples_leaf=3, n_estimators=10;, score=0.815 total time=   0.0s\n",
      "[CV 3/5] END max_depth=5, min_samples_leaf=3, n_estimators=10;, score=0.803 total time=   0.0s\n",
      "[CV 4/5] END max_depth=5, min_samples_leaf=3, n_estimators=10;, score=0.787 total time=   0.0s\n",
      "[CV 5/5] END max_depth=5, min_samples_leaf=3, n_estimators=10;, score=0.860 total time=   0.0s\n",
      "[CV 1/5] END max_depth=5, min_samples_leaf=3, n_estimators=50;, score=0.821 total time=   0.0s\n",
      "[CV 2/5] END max_depth=5, min_samples_leaf=3, n_estimators=50;, score=0.826 total time=   0.0s\n",
      "[CV 3/5] END max_depth=5, min_samples_leaf=3, n_estimators=50;, score=0.815 total time=   0.0s\n",
      "[CV 4/5] END max_depth=5, min_samples_leaf=3, n_estimators=50;, score=0.792 total time=   0.0s\n",
      "[CV 5/5] END max_depth=5, min_samples_leaf=3, n_estimators=50;, score=0.871 total time=   0.0s\n",
      "[CV 1/5] END max_depth=5, min_samples_leaf=3, n_estimators=100;, score=0.832 total time=   0.1s\n",
      "[CV 2/5] END max_depth=5, min_samples_leaf=3, n_estimators=100;, score=0.826 total time=   0.3s\n"
     ]
    },
    {
     "name": "stdout",
     "output_type": "stream",
     "text": [
      "[CV 3/5] END max_depth=5, min_samples_leaf=3, n_estimators=100;, score=0.826 total time=   0.3s\n",
      "[CV 4/5] END max_depth=5, min_samples_leaf=3, n_estimators=100;, score=0.787 total time=   0.2s\n",
      "[CV 5/5] END max_depth=5, min_samples_leaf=3, n_estimators=100;, score=0.865 total time=   0.1s\n",
      "[CV 1/5] END max_depth=5, min_samples_leaf=3, n_estimators=200;, score=0.827 total time=   0.5s\n",
      "[CV 2/5] END max_depth=5, min_samples_leaf=3, n_estimators=200;, score=0.820 total time=   0.3s\n",
      "[CV 3/5] END max_depth=5, min_samples_leaf=3, n_estimators=200;, score=0.826 total time=   0.3s\n",
      "[CV 4/5] END max_depth=5, min_samples_leaf=3, n_estimators=200;, score=0.781 total time=   0.3s\n",
      "[CV 5/5] END max_depth=5, min_samples_leaf=3, n_estimators=200;, score=0.865 total time=   0.3s\n",
      "[CV 1/5] END max_depth=5, min_samples_leaf=4, n_estimators=10;, score=0.827 total time=   0.0s\n",
      "[CV 2/5] END max_depth=5, min_samples_leaf=4, n_estimators=10;, score=0.820 total time=   0.0s\n",
      "[CV 3/5] END max_depth=5, min_samples_leaf=4, n_estimators=10;, score=0.809 total time=   0.0s\n",
      "[CV 4/5] END max_depth=5, min_samples_leaf=4, n_estimators=10;, score=0.775 total time=   0.0s\n",
      "[CV 5/5] END max_depth=5, min_samples_leaf=4, n_estimators=10;, score=0.848 total time=   0.0s\n",
      "[CV 1/5] END max_depth=5, min_samples_leaf=4, n_estimators=50;, score=0.827 total time=   0.0s\n",
      "[CV 2/5] END max_depth=5, min_samples_leaf=4, n_estimators=50;, score=0.826 total time=   0.0s\n",
      "[CV 3/5] END max_depth=5, min_samples_leaf=4, n_estimators=50;, score=0.826 total time=   0.0s\n",
      "[CV 4/5] END max_depth=5, min_samples_leaf=4, n_estimators=50;, score=0.775 total time=   0.0s\n",
      "[CV 5/5] END max_depth=5, min_samples_leaf=4, n_estimators=50;, score=0.876 total time=   0.0s\n",
      "[CV 1/5] END max_depth=5, min_samples_leaf=4, n_estimators=100;, score=0.821 total time=   0.1s\n",
      "[CV 2/5] END max_depth=5, min_samples_leaf=4, n_estimators=100;, score=0.826 total time=   0.1s\n",
      "[CV 3/5] END max_depth=5, min_samples_leaf=4, n_estimators=100;, score=0.826 total time=   0.1s\n",
      "[CV 4/5] END max_depth=5, min_samples_leaf=4, n_estimators=100;, score=0.775 total time=   0.1s\n",
      "[CV 5/5] END max_depth=5, min_samples_leaf=4, n_estimators=100;, score=0.860 total time=   0.1s\n",
      "[CV 1/5] END max_depth=5, min_samples_leaf=4, n_estimators=200;, score=0.827 total time=   0.4s\n",
      "[CV 2/5] END max_depth=5, min_samples_leaf=4, n_estimators=200;, score=0.820 total time=   0.3s\n",
      "[CV 3/5] END max_depth=5, min_samples_leaf=4, n_estimators=200;, score=0.820 total time=   0.3s\n",
      "[CV 4/5] END max_depth=5, min_samples_leaf=4, n_estimators=200;, score=0.775 total time=   0.3s\n",
      "[CV 5/5] END max_depth=5, min_samples_leaf=4, n_estimators=200;, score=0.860 total time=   0.3s\n",
      "[CV 1/5] END max_depth=5, min_samples_leaf=5, n_estimators=10;, score=0.838 total time=   0.0s\n",
      "[CV 2/5] END max_depth=5, min_samples_leaf=5, n_estimators=10;, score=0.815 total time=   0.0s\n",
      "[CV 3/5] END max_depth=5, min_samples_leaf=5, n_estimators=10;, score=0.792 total time=   0.0s\n",
      "[CV 4/5] END max_depth=5, min_samples_leaf=5, n_estimators=10;, score=0.803 total time=   0.0s\n",
      "[CV 5/5] END max_depth=5, min_samples_leaf=5, n_estimators=10;, score=0.837 total time=   0.0s\n",
      "[CV 1/5] END max_depth=5, min_samples_leaf=5, n_estimators=50;, score=0.821 total time=   0.0s\n",
      "[CV 2/5] END max_depth=5, min_samples_leaf=5, n_estimators=50;, score=0.826 total time=   0.0s\n",
      "[CV 3/5] END max_depth=5, min_samples_leaf=5, n_estimators=50;, score=0.820 total time=   0.0s\n",
      "[CV 4/5] END max_depth=5, min_samples_leaf=5, n_estimators=50;, score=0.781 total time=   0.0s\n",
      "[CV 5/5] END max_depth=5, min_samples_leaf=5, n_estimators=50;, score=0.871 total time=   0.0s\n",
      "[CV 1/5] END max_depth=5, min_samples_leaf=5, n_estimators=100;, score=0.838 total time=   0.1s\n",
      "[CV 2/5] END max_depth=5, min_samples_leaf=5, n_estimators=100;, score=0.826 total time=   0.1s\n",
      "[CV 3/5] END max_depth=5, min_samples_leaf=5, n_estimators=100;, score=0.826 total time=   0.1s\n",
      "[CV 4/5] END max_depth=5, min_samples_leaf=5, n_estimators=100;, score=0.775 total time=   0.1s\n",
      "[CV 5/5] END max_depth=5, min_samples_leaf=5, n_estimators=100;, score=0.860 total time=   0.1s\n",
      "[CV 1/5] END max_depth=5, min_samples_leaf=5, n_estimators=200;, score=0.821 total time=   0.5s\n",
      "[CV 2/5] END max_depth=5, min_samples_leaf=5, n_estimators=200;, score=0.820 total time=   0.3s\n",
      "[CV 3/5] END max_depth=5, min_samples_leaf=5, n_estimators=200;, score=0.820 total time=   0.4s\n",
      "[CV 4/5] END max_depth=5, min_samples_leaf=5, n_estimators=200;, score=0.775 total time=   0.3s\n",
      "[CV 5/5] END max_depth=5, min_samples_leaf=5, n_estimators=200;, score=0.843 total time=   0.2s\n",
      "[CV 1/5] END max_depth=6, min_samples_leaf=1, n_estimators=10;, score=0.816 total time=   0.0s\n",
      "[CV 2/5] END max_depth=6, min_samples_leaf=1, n_estimators=10;, score=0.815 total time=   0.0s\n",
      "[CV 3/5] END max_depth=6, min_samples_leaf=1, n_estimators=10;, score=0.809 total time=   0.0s\n",
      "[CV 4/5] END max_depth=6, min_samples_leaf=1, n_estimators=10;, score=0.792 total time=   0.0s\n",
      "[CV 5/5] END max_depth=6, min_samples_leaf=1, n_estimators=10;, score=0.837 total time=   0.0s\n",
      "[CV 1/5] END max_depth=6, min_samples_leaf=1, n_estimators=50;, score=0.832 total time=   0.0s\n",
      "[CV 2/5] END max_depth=6, min_samples_leaf=1, n_estimators=50;, score=0.826 total time=   0.0s\n",
      "[CV 3/5] END max_depth=6, min_samples_leaf=1, n_estimators=50;, score=0.826 total time=   0.0s\n",
      "[CV 4/5] END max_depth=6, min_samples_leaf=1, n_estimators=50;, score=0.798 total time=   0.0s\n",
      "[CV 5/5] END max_depth=6, min_samples_leaf=1, n_estimators=50;, score=0.860 total time=   0.0s\n",
      "[CV 1/5] END max_depth=6, min_samples_leaf=1, n_estimators=100;, score=0.832 total time=   0.1s\n",
      "[CV 2/5] END max_depth=6, min_samples_leaf=1, n_estimators=100;, score=0.820 total time=   0.1s\n",
      "[CV 3/5] END max_depth=6, min_samples_leaf=1, n_estimators=100;, score=0.831 total time=   0.1s\n",
      "[CV 4/5] END max_depth=6, min_samples_leaf=1, n_estimators=100;, score=0.787 total time=   0.1s\n",
      "[CV 5/5] END max_depth=6, min_samples_leaf=1, n_estimators=100;, score=0.865 total time=   0.1s\n",
      "[CV 1/5] END max_depth=6, min_samples_leaf=1, n_estimators=200;, score=0.849 total time=   0.2s\n",
      "[CV 2/5] END max_depth=6, min_samples_leaf=1, n_estimators=200;, score=0.815 total time=   0.2s\n",
      "[CV 3/5] END max_depth=6, min_samples_leaf=1, n_estimators=200;, score=0.826 total time=   0.3s\n",
      "[CV 4/5] END max_depth=6, min_samples_leaf=1, n_estimators=200;, score=0.781 total time=   0.6s\n",
      "[CV 5/5] END max_depth=6, min_samples_leaf=1, n_estimators=200;, score=0.860 total time=   0.8s\n",
      "[CV 1/5] END max_depth=6, min_samples_leaf=2, n_estimators=10;, score=0.799 total time=   0.0s\n",
      "[CV 2/5] END max_depth=6, min_samples_leaf=2, n_estimators=10;, score=0.809 total time=   0.0s\n",
      "[CV 3/5] END max_depth=6, min_samples_leaf=2, n_estimators=10;, score=0.815 total time=   0.0s\n",
      "[CV 4/5] END max_depth=6, min_samples_leaf=2, n_estimators=10;, score=0.798 total time=   0.0s\n",
      "[CV 5/5] END max_depth=6, min_samples_leaf=2, n_estimators=10;, score=0.860 total time=   0.0s\n",
      "[CV 1/5] END max_depth=6, min_samples_leaf=2, n_estimators=50;, score=0.810 total time=   0.0s\n",
      "[CV 2/5] END max_depth=6, min_samples_leaf=2, n_estimators=50;, score=0.815 total time=   0.0s\n",
      "[CV 3/5] END max_depth=6, min_samples_leaf=2, n_estimators=50;, score=0.843 total time=   0.1s\n",
      "[CV 4/5] END max_depth=6, min_samples_leaf=2, n_estimators=50;, score=0.792 total time=   0.1s\n",
      "[CV 5/5] END max_depth=6, min_samples_leaf=2, n_estimators=50;, score=0.860 total time=   0.1s\n",
      "[CV 1/5] END max_depth=6, min_samples_leaf=2, n_estimators=100;, score=0.832 total time=   0.3s\n",
      "[CV 2/5] END max_depth=6, min_samples_leaf=2, n_estimators=100;, score=0.820 total time=   0.1s\n",
      "[CV 3/5] END max_depth=6, min_samples_leaf=2, n_estimators=100;, score=0.837 total time=   0.1s\n",
      "[CV 4/5] END max_depth=6, min_samples_leaf=2, n_estimators=100;, score=0.787 total time=   0.1s\n",
      "[CV 5/5] END max_depth=6, min_samples_leaf=2, n_estimators=100;, score=0.865 total time=   0.1s\n",
      "[CV 1/5] END max_depth=6, min_samples_leaf=2, n_estimators=200;, score=0.816 total time=   0.4s\n",
      "[CV 2/5] END max_depth=6, min_samples_leaf=2, n_estimators=200;, score=0.820 total time=   0.5s\n",
      "[CV 3/5] END max_depth=6, min_samples_leaf=2, n_estimators=200;, score=0.826 total time=   0.3s\n"
     ]
    },
    {
     "name": "stdout",
     "output_type": "stream",
     "text": [
      "[CV 4/5] END max_depth=6, min_samples_leaf=2, n_estimators=200;, score=0.787 total time=   0.3s\n",
      "[CV 5/5] END max_depth=6, min_samples_leaf=2, n_estimators=200;, score=0.865 total time=   0.3s\n",
      "[CV 1/5] END max_depth=6, min_samples_leaf=3, n_estimators=10;, score=0.810 total time=   0.0s\n",
      "[CV 2/5] END max_depth=6, min_samples_leaf=3, n_estimators=10;, score=0.815 total time=   0.0s\n",
      "[CV 3/5] END max_depth=6, min_samples_leaf=3, n_estimators=10;, score=0.803 total time=   0.0s\n",
      "[CV 4/5] END max_depth=6, min_samples_leaf=3, n_estimators=10;, score=0.781 total time=   0.0s\n",
      "[CV 5/5] END max_depth=6, min_samples_leaf=3, n_estimators=10;, score=0.848 total time=   0.0s\n",
      "[CV 1/5] END max_depth=6, min_samples_leaf=3, n_estimators=50;, score=0.816 total time=   0.0s\n",
      "[CV 2/5] END max_depth=6, min_samples_leaf=3, n_estimators=50;, score=0.831 total time=   0.0s\n",
      "[CV 3/5] END max_depth=6, min_samples_leaf=3, n_estimators=50;, score=0.831 total time=   0.0s\n",
      "[CV 4/5] END max_depth=6, min_samples_leaf=3, n_estimators=50;, score=0.792 total time=   0.0s\n",
      "[CV 5/5] END max_depth=6, min_samples_leaf=3, n_estimators=50;, score=0.876 total time=   0.0s\n",
      "[CV 1/5] END max_depth=6, min_samples_leaf=3, n_estimators=100;, score=0.821 total time=   0.1s\n",
      "[CV 2/5] END max_depth=6, min_samples_leaf=3, n_estimators=100;, score=0.831 total time=   0.1s\n",
      "[CV 3/5] END max_depth=6, min_samples_leaf=3, n_estimators=100;, score=0.826 total time=   0.1s\n",
      "[CV 4/5] END max_depth=6, min_samples_leaf=3, n_estimators=100;, score=0.792 total time=   0.1s\n",
      "[CV 5/5] END max_depth=6, min_samples_leaf=3, n_estimators=100;, score=0.876 total time=   0.1s\n",
      "[CV 1/5] END max_depth=6, min_samples_leaf=3, n_estimators=200;, score=0.821 total time=   0.3s\n",
      "[CV 2/5] END max_depth=6, min_samples_leaf=3, n_estimators=200;, score=0.831 total time=   0.3s\n",
      "[CV 3/5] END max_depth=6, min_samples_leaf=3, n_estimators=200;, score=0.820 total time=   0.3s\n",
      "[CV 4/5] END max_depth=6, min_samples_leaf=3, n_estimators=200;, score=0.792 total time=   0.3s\n",
      "[CV 5/5] END max_depth=6, min_samples_leaf=3, n_estimators=200;, score=0.876 total time=   0.3s\n",
      "[CV 1/5] END max_depth=6, min_samples_leaf=4, n_estimators=10;, score=0.810 total time=   0.0s\n",
      "[CV 2/5] END max_depth=6, min_samples_leaf=4, n_estimators=10;, score=0.820 total time=   0.0s\n",
      "[CV 3/5] END max_depth=6, min_samples_leaf=4, n_estimators=10;, score=0.848 total time=   0.0s\n",
      "[CV 4/5] END max_depth=6, min_samples_leaf=4, n_estimators=10;, score=0.781 total time=   0.0s\n",
      "[CV 5/5] END max_depth=6, min_samples_leaf=4, n_estimators=10;, score=0.854 total time=   0.0s\n",
      "[CV 1/5] END max_depth=6, min_samples_leaf=4, n_estimators=50;, score=0.827 total time=   0.0s\n",
      "[CV 2/5] END max_depth=6, min_samples_leaf=4, n_estimators=50;, score=0.837 total time=   0.0s\n",
      "[CV 3/5] END max_depth=6, min_samples_leaf=4, n_estimators=50;, score=0.831 total time=   0.0s\n",
      "[CV 4/5] END max_depth=6, min_samples_leaf=4, n_estimators=50;, score=0.770 total time=   0.0s\n",
      "[CV 5/5] END max_depth=6, min_samples_leaf=4, n_estimators=50;, score=0.871 total time=   0.0s\n",
      "[CV 1/5] END max_depth=6, min_samples_leaf=4, n_estimators=100;, score=0.816 total time=   0.1s\n",
      "[CV 2/5] END max_depth=6, min_samples_leaf=4, n_estimators=100;, score=0.826 total time=   0.1s\n",
      "[CV 3/5] END max_depth=6, min_samples_leaf=4, n_estimators=100;, score=0.831 total time=   0.1s\n",
      "[CV 4/5] END max_depth=6, min_samples_leaf=4, n_estimators=100;, score=0.770 total time=   0.1s\n",
      "[CV 5/5] END max_depth=6, min_samples_leaf=4, n_estimators=100;, score=0.876 total time=   0.2s\n",
      "[CV 1/5] END max_depth=6, min_samples_leaf=4, n_estimators=200;, score=0.816 total time=   0.4s\n",
      "[CV 2/5] END max_depth=6, min_samples_leaf=4, n_estimators=200;, score=0.815 total time=   0.3s\n",
      "[CV 3/5] END max_depth=6, min_samples_leaf=4, n_estimators=200;, score=0.826 total time=   0.3s\n",
      "[CV 4/5] END max_depth=6, min_samples_leaf=4, n_estimators=200;, score=0.781 total time=   0.3s\n",
      "[CV 5/5] END max_depth=6, min_samples_leaf=4, n_estimators=200;, score=0.871 total time=   0.3s\n",
      "[CV 1/5] END max_depth=6, min_samples_leaf=5, n_estimators=10;, score=0.793 total time=   0.0s\n",
      "[CV 2/5] END max_depth=6, min_samples_leaf=5, n_estimators=10;, score=0.831 total time=   0.0s\n",
      "[CV 3/5] END max_depth=6, min_samples_leaf=5, n_estimators=10;, score=0.815 total time=   0.0s\n",
      "[CV 4/5] END max_depth=6, min_samples_leaf=5, n_estimators=10;, score=0.775 total time=   0.0s\n",
      "[CV 5/5] END max_depth=6, min_samples_leaf=5, n_estimators=10;, score=0.871 total time=   0.0s\n",
      "[CV 1/5] END max_depth=6, min_samples_leaf=5, n_estimators=50;, score=0.838 total time=   0.0s\n",
      "[CV 2/5] END max_depth=6, min_samples_leaf=5, n_estimators=50;, score=0.826 total time=   0.0s\n",
      "[CV 3/5] END max_depth=6, min_samples_leaf=5, n_estimators=50;, score=0.831 total time=   0.0s\n",
      "[CV 4/5] END max_depth=6, min_samples_leaf=5, n_estimators=50;, score=0.775 total time=   0.0s\n",
      "[CV 5/5] END max_depth=6, min_samples_leaf=5, n_estimators=50;, score=0.860 total time=   0.0s\n",
      "[CV 1/5] END max_depth=6, min_samples_leaf=5, n_estimators=100;, score=0.816 total time=   0.1s\n",
      "[CV 2/5] END max_depth=6, min_samples_leaf=5, n_estimators=100;, score=0.815 total time=   0.2s\n",
      "[CV 3/5] END max_depth=6, min_samples_leaf=5, n_estimators=100;, score=0.831 total time=   0.2s\n",
      "[CV 4/5] END max_depth=6, min_samples_leaf=5, n_estimators=100;, score=0.770 total time=   0.1s\n",
      "[CV 5/5] END max_depth=6, min_samples_leaf=5, n_estimators=100;, score=0.865 total time=   0.1s\n",
      "[CV 1/5] END max_depth=6, min_samples_leaf=5, n_estimators=200;, score=0.816 total time=   0.3s\n",
      "[CV 2/5] END max_depth=6, min_samples_leaf=5, n_estimators=200;, score=0.820 total time=   0.3s\n",
      "[CV 3/5] END max_depth=6, min_samples_leaf=5, n_estimators=200;, score=0.826 total time=   0.3s\n",
      "[CV 4/5] END max_depth=6, min_samples_leaf=5, n_estimators=200;, score=0.770 total time=   0.3s\n",
      "[CV 5/5] END max_depth=6, min_samples_leaf=5, n_estimators=200;, score=0.854 total time=   0.2s\n",
      "[CV 1/5] END max_depth=7, min_samples_leaf=1, n_estimators=10;, score=0.799 total time=   0.0s\n",
      "[CV 2/5] END max_depth=7, min_samples_leaf=1, n_estimators=10;, score=0.792 total time=   0.0s\n",
      "[CV 3/5] END max_depth=7, min_samples_leaf=1, n_estimators=10;, score=0.826 total time=   0.0s\n",
      "[CV 4/5] END max_depth=7, min_samples_leaf=1, n_estimators=10;, score=0.787 total time=   0.0s\n",
      "[CV 5/5] END max_depth=7, min_samples_leaf=1, n_estimators=10;, score=0.860 total time=   0.0s\n",
      "[CV 1/5] END max_depth=7, min_samples_leaf=1, n_estimators=50;, score=0.838 total time=   0.0s\n",
      "[CV 2/5] END max_depth=7, min_samples_leaf=1, n_estimators=50;, score=0.826 total time=   0.0s\n",
      "[CV 3/5] END max_depth=7, min_samples_leaf=1, n_estimators=50;, score=0.826 total time=   0.0s\n",
      "[CV 4/5] END max_depth=7, min_samples_leaf=1, n_estimators=50;, score=0.787 total time=   0.0s\n",
      "[CV 5/5] END max_depth=7, min_samples_leaf=1, n_estimators=50;, score=0.860 total time=   0.1s\n",
      "[CV 1/5] END max_depth=7, min_samples_leaf=1, n_estimators=100;, score=0.844 total time=   0.3s\n",
      "[CV 2/5] END max_depth=7, min_samples_leaf=1, n_estimators=100;, score=0.826 total time=   0.1s\n",
      "[CV 3/5] END max_depth=7, min_samples_leaf=1, n_estimators=100;, score=0.826 total time=   0.2s\n",
      "[CV 4/5] END max_depth=7, min_samples_leaf=1, n_estimators=100;, score=0.781 total time=   0.4s\n",
      "[CV 5/5] END max_depth=7, min_samples_leaf=1, n_estimators=100;, score=0.854 total time=   0.2s\n",
      "[CV 1/5] END max_depth=7, min_samples_leaf=1, n_estimators=200;, score=0.821 total time=   0.6s\n",
      "[CV 2/5] END max_depth=7, min_samples_leaf=1, n_estimators=200;, score=0.815 total time=   0.5s\n",
      "[CV 3/5] END max_depth=7, min_samples_leaf=1, n_estimators=200;, score=0.826 total time=   0.5s\n",
      "[CV 4/5] END max_depth=7, min_samples_leaf=1, n_estimators=200;, score=0.781 total time=   0.4s\n",
      "[CV 5/5] END max_depth=7, min_samples_leaf=1, n_estimators=200;, score=0.854 total time=   0.5s\n",
      "[CV 1/5] END max_depth=7, min_samples_leaf=2, n_estimators=10;, score=0.788 total time=   0.0s\n",
      "[CV 2/5] END max_depth=7, min_samples_leaf=2, n_estimators=10;, score=0.798 total time=   0.0s\n",
      "[CV 3/5] END max_depth=7, min_samples_leaf=2, n_estimators=10;, score=0.831 total time=   0.0s\n",
      "[CV 4/5] END max_depth=7, min_samples_leaf=2, n_estimators=10;, score=0.787 total time=   0.0s\n"
     ]
    },
    {
     "name": "stdout",
     "output_type": "stream",
     "text": [
      "[CV 5/5] END max_depth=7, min_samples_leaf=2, n_estimators=10;, score=0.860 total time=   0.0s\n",
      "[CV 1/5] END max_depth=7, min_samples_leaf=2, n_estimators=50;, score=0.827 total time=   0.1s\n",
      "[CV 2/5] END max_depth=7, min_samples_leaf=2, n_estimators=50;, score=0.820 total time=   0.0s\n",
      "[CV 3/5] END max_depth=7, min_samples_leaf=2, n_estimators=50;, score=0.826 total time=   0.0s\n",
      "[CV 4/5] END max_depth=7, min_samples_leaf=2, n_estimators=50;, score=0.798 total time=   0.0s\n",
      "[CV 5/5] END max_depth=7, min_samples_leaf=2, n_estimators=50;, score=0.876 total time=   0.0s\n",
      "[CV 1/5] END max_depth=7, min_samples_leaf=2, n_estimators=100;, score=0.821 total time=   0.1s\n",
      "[CV 2/5] END max_depth=7, min_samples_leaf=2, n_estimators=100;, score=0.820 total time=   0.1s\n",
      "[CV 3/5] END max_depth=7, min_samples_leaf=2, n_estimators=100;, score=0.837 total time=   0.1s\n",
      "[CV 4/5] END max_depth=7, min_samples_leaf=2, n_estimators=100;, score=0.787 total time=   0.1s\n",
      "[CV 5/5] END max_depth=7, min_samples_leaf=2, n_estimators=100;, score=0.876 total time=   0.2s\n",
      "[CV 1/5] END max_depth=7, min_samples_leaf=2, n_estimators=200;, score=0.821 total time=   0.3s\n",
      "[CV 2/5] END max_depth=7, min_samples_leaf=2, n_estimators=200;, score=0.820 total time=   0.3s\n",
      "[CV 3/5] END max_depth=7, min_samples_leaf=2, n_estimators=200;, score=0.831 total time=   0.3s\n",
      "[CV 4/5] END max_depth=7, min_samples_leaf=2, n_estimators=200;, score=0.787 total time=   0.2s\n",
      "[CV 5/5] END max_depth=7, min_samples_leaf=2, n_estimators=200;, score=0.865 total time=   0.3s\n",
      "[CV 1/5] END max_depth=7, min_samples_leaf=3, n_estimators=10;, score=0.827 total time=   0.0s\n",
      "[CV 2/5] END max_depth=7, min_samples_leaf=3, n_estimators=10;, score=0.809 total time=   0.0s\n",
      "[CV 3/5] END max_depth=7, min_samples_leaf=3, n_estimators=10;, score=0.831 total time=   0.0s\n",
      "[CV 4/5] END max_depth=7, min_samples_leaf=3, n_estimators=10;, score=0.803 total time=   0.0s\n",
      "[CV 5/5] END max_depth=7, min_samples_leaf=3, n_estimators=10;, score=0.860 total time=   0.0s\n",
      "[CV 1/5] END max_depth=7, min_samples_leaf=3, n_estimators=50;, score=0.844 total time=   0.0s\n",
      "[CV 2/5] END max_depth=7, min_samples_leaf=3, n_estimators=50;, score=0.815 total time=   0.0s\n",
      "[CV 3/5] END max_depth=7, min_samples_leaf=3, n_estimators=50;, score=0.837 total time=   0.0s\n",
      "[CV 4/5] END max_depth=7, min_samples_leaf=3, n_estimators=50;, score=0.787 total time=   0.0s\n",
      "[CV 5/5] END max_depth=7, min_samples_leaf=3, n_estimators=50;, score=0.871 total time=   0.0s\n",
      "[CV 1/5] END max_depth=7, min_samples_leaf=3, n_estimators=100;, score=0.832 total time=   0.1s\n",
      "[CV 2/5] END max_depth=7, min_samples_leaf=3, n_estimators=100;, score=0.820 total time=   0.1s\n",
      "[CV 3/5] END max_depth=7, min_samples_leaf=3, n_estimators=100;, score=0.820 total time=   0.1s\n",
      "[CV 4/5] END max_depth=7, min_samples_leaf=3, n_estimators=100;, score=0.787 total time=   0.1s\n",
      "[CV 5/5] END max_depth=7, min_samples_leaf=3, n_estimators=100;, score=0.876 total time=   0.1s\n",
      "[CV 1/5] END max_depth=7, min_samples_leaf=3, n_estimators=200;, score=0.832 total time=   0.3s\n",
      "[CV 2/5] END max_depth=7, min_samples_leaf=3, n_estimators=200;, score=0.820 total time=   0.3s\n",
      "[CV 3/5] END max_depth=7, min_samples_leaf=3, n_estimators=200;, score=0.826 total time=   0.3s\n",
      "[CV 4/5] END max_depth=7, min_samples_leaf=3, n_estimators=200;, score=0.787 total time=   0.2s\n",
      "[CV 5/5] END max_depth=7, min_samples_leaf=3, n_estimators=200;, score=0.871 total time=   0.3s\n",
      "[CV 1/5] END max_depth=7, min_samples_leaf=4, n_estimators=10;, score=0.827 total time=   0.0s\n",
      "[CV 2/5] END max_depth=7, min_samples_leaf=4, n_estimators=10;, score=0.803 total time=   0.0s\n",
      "[CV 3/5] END max_depth=7, min_samples_leaf=4, n_estimators=10;, score=0.843 total time=   0.0s\n",
      "[CV 4/5] END max_depth=7, min_samples_leaf=4, n_estimators=10;, score=0.787 total time=   0.0s\n",
      "[CV 5/5] END max_depth=7, min_samples_leaf=4, n_estimators=10;, score=0.837 total time=   0.0s\n",
      "[CV 1/5] END max_depth=7, min_samples_leaf=4, n_estimators=50;, score=0.827 total time=   0.0s\n",
      "[CV 2/5] END max_depth=7, min_samples_leaf=4, n_estimators=50;, score=0.803 total time=   0.0s\n",
      "[CV 3/5] END max_depth=7, min_samples_leaf=4, n_estimators=50;, score=0.826 total time=   0.0s\n",
      "[CV 4/5] END max_depth=7, min_samples_leaf=4, n_estimators=50;, score=0.787 total time=   0.0s\n",
      "[CV 5/5] END max_depth=7, min_samples_leaf=4, n_estimators=50;, score=0.876 total time=   0.0s\n",
      "[CV 1/5] END max_depth=7, min_samples_leaf=4, n_estimators=100;, score=0.832 total time=   0.1s\n",
      "[CV 2/5] END max_depth=7, min_samples_leaf=4, n_estimators=100;, score=0.809 total time=   0.1s\n",
      "[CV 3/5] END max_depth=7, min_samples_leaf=4, n_estimators=100;, score=0.826 total time=   0.1s\n",
      "[CV 4/5] END max_depth=7, min_samples_leaf=4, n_estimators=100;, score=0.787 total time=   0.1s\n",
      "[CV 5/5] END max_depth=7, min_samples_leaf=4, n_estimators=100;, score=0.865 total time=   0.1s\n",
      "[CV 1/5] END max_depth=7, min_samples_leaf=4, n_estimators=200;, score=0.816 total time=   0.3s\n",
      "[CV 2/5] END max_depth=7, min_samples_leaf=4, n_estimators=200;, score=0.815 total time=   0.3s\n",
      "[CV 3/5] END max_depth=7, min_samples_leaf=4, n_estimators=200;, score=0.815 total time=   0.5s\n",
      "[CV 4/5] END max_depth=7, min_samples_leaf=4, n_estimators=200;, score=0.787 total time=   0.3s\n",
      "[CV 5/5] END max_depth=7, min_samples_leaf=4, n_estimators=200;, score=0.871 total time=   0.2s\n",
      "[CV 1/5] END max_depth=7, min_samples_leaf=5, n_estimators=10;, score=0.788 total time=   0.0s\n",
      "[CV 2/5] END max_depth=7, min_samples_leaf=5, n_estimators=10;, score=0.809 total time=   0.0s\n",
      "[CV 3/5] END max_depth=7, min_samples_leaf=5, n_estimators=10;, score=0.815 total time=   0.0s\n",
      "[CV 4/5] END max_depth=7, min_samples_leaf=5, n_estimators=10;, score=0.764 total time=   0.0s\n",
      "[CV 5/5] END max_depth=7, min_samples_leaf=5, n_estimators=10;, score=0.837 total time=   0.0s\n",
      "[CV 1/5] END max_depth=7, min_samples_leaf=5, n_estimators=50;, score=0.832 total time=   0.0s\n",
      "[CV 2/5] END max_depth=7, min_samples_leaf=5, n_estimators=50;, score=0.815 total time=   0.0s\n",
      "[CV 3/5] END max_depth=7, min_samples_leaf=5, n_estimators=50;, score=0.837 total time=   0.0s\n",
      "[CV 4/5] END max_depth=7, min_samples_leaf=5, n_estimators=50;, score=0.781 total time=   0.0s\n",
      "[CV 5/5] END max_depth=7, min_samples_leaf=5, n_estimators=50;, score=0.860 total time=   0.0s\n",
      "[CV 1/5] END max_depth=7, min_samples_leaf=5, n_estimators=100;, score=0.821 total time=   0.1s\n",
      "[CV 2/5] END max_depth=7, min_samples_leaf=5, n_estimators=100;, score=0.815 total time=   0.1s\n",
      "[CV 3/5] END max_depth=7, min_samples_leaf=5, n_estimators=100;, score=0.831 total time=   0.1s\n",
      "[CV 4/5] END max_depth=7, min_samples_leaf=5, n_estimators=100;, score=0.775 total time=   0.1s\n",
      "[CV 5/5] END max_depth=7, min_samples_leaf=5, n_estimators=100;, score=0.871 total time=   0.1s\n",
      "[CV 1/5] END max_depth=7, min_samples_leaf=5, n_estimators=200;, score=0.816 total time=   0.4s\n",
      "[CV 2/5] END max_depth=7, min_samples_leaf=5, n_estimators=200;, score=0.815 total time=   0.2s\n",
      "[CV 3/5] END max_depth=7, min_samples_leaf=5, n_estimators=200;, score=0.831 total time=   0.3s\n",
      "[CV 4/5] END max_depth=7, min_samples_leaf=5, n_estimators=200;, score=0.770 total time=   0.3s\n",
      "[CV 5/5] END max_depth=7, min_samples_leaf=5, n_estimators=200;, score=0.860 total time=   0.3s\n"
     ]
    },
    {
     "data": {
      "text/plain": [
       "GridSearchCV(estimator=RandomForestClassifier(random_state=100),\n",
       "             param_grid={'max_depth': [2, 3, 4, 5, 6, 7],\n",
       "                         'min_samples_leaf': [1, 2, 3, 4, 5],\n",
       "                         'n_estimators': [10, 50, 100, 200]},\n",
       "             verbose=5)"
      ]
     },
     "execution_count": 32,
     "metadata": {},
     "output_type": "execute_result"
    }
   ],
   "source": [
    "parametrs = {'n_estimators':[10,50,100,200],'max_depth':[2,3,4,5,6,7], 'min_samples_leaf':[1,2,3,4,5]}\n",
    "grid_cv = GridSearchCV(RandomForestClassifier(random_state=100), param_grid=parametrs, verbose=5)\n",
    "grid_cv.fit(final_train,df_train['Survived'])"
   ]
  },
  {
   "cell_type": "code",
   "execution_count": 33,
   "id": "169886b6",
   "metadata": {},
   "outputs": [
    {
     "data": {
      "text/plain": [
       "RandomForestClassifier(max_depth=5, random_state=100)"
      ]
     },
     "execution_count": 33,
     "metadata": {},
     "output_type": "execute_result"
    }
   ],
   "source": [
    "grid_cv.best_estimator_"
   ]
  },
  {
   "cell_type": "code",
   "execution_count": 43,
   "id": "7d21b942",
   "metadata": {},
   "outputs": [],
   "source": [
    "model= RandomForestClassifier(criterion='entropy',n_estimators=100,max_depth=6,random_state=100)"
   ]
  },
  {
   "cell_type": "code",
   "execution_count": 44,
   "id": "0c5443de",
   "metadata": {},
   "outputs": [
    {
     "data": {
      "text/plain": [
       "RandomForestClassifier(criterion='entropy', max_depth=6, random_state=100)"
      ]
     },
     "execution_count": 44,
     "metadata": {},
     "output_type": "execute_result"
    }
   ],
   "source": [
    "model.fit(final_train,df_train['Survived'])"
   ]
  },
  {
   "cell_type": "code",
   "execution_count": 45,
   "id": "8e0b3a39",
   "metadata": {},
   "outputs": [],
   "source": [
    "yp=model.predict(final_test)"
   ]
  },
  {
   "cell_type": "code",
   "execution_count": 46,
   "id": "3d0412cd",
   "metadata": {},
   "outputs": [
    {
     "data": {
      "text/plain": [
       "array([0, 0, 0, 0, 1, 0, 1, 0, 1, 0, 0, 0, 1, 0, 1, 1, 0, 0, 0, 1, 0, 1,\n",
       "       1, 0, 1, 0, 1, 0, 0, 0, 0, 0, 1, 1, 1, 0, 1, 1, 0, 0, 0, 0, 0, 1,\n",
       "       1, 0, 0, 0, 1, 1, 0, 0, 1, 1, 0, 0, 0, 0, 0, 1, 0, 0, 0, 1, 1, 1,\n",
       "       1, 0, 0, 1, 1, 0, 0, 1, 1, 0, 0, 1, 0, 1, 1, 0, 0, 0, 0, 0, 1, 1,\n",
       "       1, 1, 1, 0, 1, 0, 0, 0, 1, 0, 1, 0, 1, 0, 0, 0, 1, 0, 0, 0, 0, 0,\n",
       "       0, 1, 1, 1, 1, 0, 0, 1, 0, 1, 1, 0, 1, 0, 0, 1, 0, 1, 0, 0, 0, 0,\n",
       "       0, 0, 0, 0, 0, 0, 1, 0, 0, 1, 0, 0, 0, 0, 0, 0, 0, 0, 1, 0, 0, 1,\n",
       "       0, 0, 1, 1, 0, 1, 1, 1, 1, 0, 0, 1, 0, 0, 1, 1, 0, 0, 0, 0, 0, 1,\n",
       "       1, 0, 1, 1, 0, 0, 1, 0, 1, 0, 1, 0, 0, 0, 0, 0, 0, 0, 1, 0, 1, 1,\n",
       "       0, 1, 1, 1, 0, 1, 0, 0, 1, 0, 1, 0, 0, 0, 0, 1, 0, 0, 1, 0, 1, 0,\n",
       "       1, 0, 1, 0, 1, 1, 0, 1, 0, 0, 0, 1, 0, 0, 1, 0, 0, 0, 1, 1, 1, 1,\n",
       "       0, 0, 0, 0, 1, 0, 1, 1, 1, 0, 0, 0, 0, 0, 0, 0, 1, 0, 0, 0, 1, 1,\n",
       "       0, 0, 0, 0, 1, 0, 0, 0, 1, 1, 0, 1, 0, 0, 0, 0, 1, 1, 1, 1, 1, 0,\n",
       "       0, 0, 0, 0, 0, 1, 0, 0, 0, 0, 1, 0, 0, 0, 0, 0, 0, 0, 1, 1, 0, 1,\n",
       "       0, 0, 0, 0, 0, 1, 1, 1, 0, 0, 0, 0, 0, 0, 0, 0, 1, 0, 1, 0, 0, 0,\n",
       "       1, 0, 0, 1, 0, 0, 0, 0, 0, 1, 0, 0, 0, 1, 0, 1, 0, 1, 0, 1, 1, 0,\n",
       "       0, 0, 1, 0, 1, 0, 0, 1, 0, 1, 1, 0, 1, 0, 0, 1, 1, 0, 0, 1, 0, 0,\n",
       "       1, 1, 0, 0, 0, 0, 0, 0, 1, 1, 0, 1, 0, 0, 0, 0, 0, 1, 1, 0, 0, 1,\n",
       "       0, 1, 0, 0, 1, 0, 1, 0, 0, 0, 0, 0, 1, 1, 1, 1, 0, 0, 1, 0, 0, 1],\n",
       "      dtype=int64)"
      ]
     },
     "execution_count": 46,
     "metadata": {},
     "output_type": "execute_result"
    }
   ],
   "source": [
    "yp"
   ]
  },
  {
   "cell_type": "code",
   "execution_count": 47,
   "id": "54bb9c0d",
   "metadata": {},
   "outputs": [],
   "source": [
    "df_test['Survived']=yp"
   ]
  },
  {
   "cell_type": "code",
   "execution_count": 48,
   "id": "4eb94543",
   "metadata": {},
   "outputs": [
    {
     "data": {
      "text/html": [
       "<div>\n",
       "<style scoped>\n",
       "    .dataframe tbody tr th:only-of-type {\n",
       "        vertical-align: middle;\n",
       "    }\n",
       "\n",
       "    .dataframe tbody tr th {\n",
       "        vertical-align: top;\n",
       "    }\n",
       "\n",
       "    .dataframe thead th {\n",
       "        text-align: right;\n",
       "    }\n",
       "</style>\n",
       "<table border=\"1\" class=\"dataframe\">\n",
       "  <thead>\n",
       "    <tr style=\"text-align: right;\">\n",
       "      <th></th>\n",
       "      <th>PassengerId</th>\n",
       "      <th>Survived</th>\n",
       "    </tr>\n",
       "  </thead>\n",
       "  <tbody>\n",
       "    <tr>\n",
       "      <th>0</th>\n",
       "      <td>892</td>\n",
       "      <td>0</td>\n",
       "    </tr>\n",
       "    <tr>\n",
       "      <th>1</th>\n",
       "      <td>893</td>\n",
       "      <td>0</td>\n",
       "    </tr>\n",
       "    <tr>\n",
       "      <th>2</th>\n",
       "      <td>894</td>\n",
       "      <td>0</td>\n",
       "    </tr>\n",
       "    <tr>\n",
       "      <th>3</th>\n",
       "      <td>895</td>\n",
       "      <td>0</td>\n",
       "    </tr>\n",
       "    <tr>\n",
       "      <th>4</th>\n",
       "      <td>896</td>\n",
       "      <td>1</td>\n",
       "    </tr>\n",
       "    <tr>\n",
       "      <th>...</th>\n",
       "      <td>...</td>\n",
       "      <td>...</td>\n",
       "    </tr>\n",
       "    <tr>\n",
       "      <th>413</th>\n",
       "      <td>1305</td>\n",
       "      <td>0</td>\n",
       "    </tr>\n",
       "    <tr>\n",
       "      <th>414</th>\n",
       "      <td>1306</td>\n",
       "      <td>1</td>\n",
       "    </tr>\n",
       "    <tr>\n",
       "      <th>415</th>\n",
       "      <td>1307</td>\n",
       "      <td>0</td>\n",
       "    </tr>\n",
       "    <tr>\n",
       "      <th>416</th>\n",
       "      <td>1308</td>\n",
       "      <td>0</td>\n",
       "    </tr>\n",
       "    <tr>\n",
       "      <th>417</th>\n",
       "      <td>1309</td>\n",
       "      <td>1</td>\n",
       "    </tr>\n",
       "  </tbody>\n",
       "</table>\n",
       "<p>418 rows × 2 columns</p>\n",
       "</div>"
      ],
      "text/plain": [
       "     PassengerId  Survived\n",
       "0            892         0\n",
       "1            893         0\n",
       "2            894         0\n",
       "3            895         0\n",
       "4            896         1\n",
       "..           ...       ...\n",
       "413         1305         0\n",
       "414         1306         1\n",
       "415         1307         0\n",
       "416         1308         0\n",
       "417         1309         1\n",
       "\n",
       "[418 rows x 2 columns]"
      ]
     },
     "execution_count": 48,
     "metadata": {},
     "output_type": "execute_result"
    }
   ],
   "source": [
    "df_test[['PassengerId','Survived']]"
   ]
  },
  {
   "cell_type": "code",
   "execution_count": 49,
   "id": "1a38fa2b",
   "metadata": {},
   "outputs": [],
   "source": [
    "df_test[['PassengerId','Survived']].to_csv('SUBMISSION03.csv',index=False)"
   ]
  },
  {
   "cell_type": "code",
   "execution_count": null,
   "id": "c4abcc3b",
   "metadata": {},
   "outputs": [],
   "source": []
  }
 ],
 "metadata": {
  "kernelspec": {
   "display_name": "Python 3 (ipykernel)",
   "language": "python",
   "name": "python3"
  },
  "language_info": {
   "codemirror_mode": {
    "name": "ipython",
    "version": 3
   },
   "file_extension": ".py",
   "mimetype": "text/x-python",
   "name": "python",
   "nbconvert_exporter": "python",
   "pygments_lexer": "ipython3",
   "version": "3.9.7"
  }
 },
 "nbformat": 4,
 "nbformat_minor": 5
}
